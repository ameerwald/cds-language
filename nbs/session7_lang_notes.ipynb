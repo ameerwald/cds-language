{
  "cells": [
    {
      "cell_type": "markdown",
      "metadata": {
        "id": "hX4n9TsbGw-f"
      },
      "source": [
        "##### Copyright 2018 The TensorFlow Authors."
      ]
    },
    {
      "cell_type": "code",
      "execution_count": 3,
      "metadata": {
        "cellView": "form",
        "id": "0nbI5DtDGw-i"
      },
      "outputs": [],
      "source": [
        "#@title Licensed under the Apache License, Version 2.0 (the \"License\");\n",
        "# you may not use this file except in compliance with the License.\n",
        "# You may obtain a copy of the License at\n",
        "#\n",
        "# https://www.apache.org/licenses/LICENSE-2.0\n",
        "#\n",
        "# Unless required by applicable law or agreed to in writing, software\n",
        "# distributed under the License is distributed on an \"AS IS\" BASIS,\n",
        "# WITHOUT WARRANTIES OR CONDITIONS OF ANY KIND, either express or implied.\n",
        "# See the License for the specific language governing permissions and\n",
        "# limitations under the License."
      ]
    },
    {
      "cell_type": "markdown",
      "metadata": {
        "id": "9TnJztDZGw-n"
      },
      "source": [
        "# Text classification with an RNN"
      ]
    },
    {
      "cell_type": "markdown",
      "metadata": {
        "id": "AfN3bMR5Gw-o"
      },
      "source": [
        "<table class=\"tfo-notebook-buttons\" align=\"left\">\n",
        "  <td>\n",
        "    <a target=\"_blank\" href=\"https://www.tensorflow.org/text/tutorials/text_classification_rnn\"><img src=\"https://www.tensorflow.org/images/tf_logo_32px.png\" />View on TensorFlow.org</a>\n",
        "  </td>\n",
        "  <td>\n",
        "    <a target=\"_blank\" href=\"https://colab.research.google.com/github/tensorflow/text/blob/master/docs/tutorials/text_classification_rnn.ipynb\"><img src=\"https://www.tensorflow.org/images/colab_logo_32px.png\" />Run in Google Colab</a>\n",
        "  </td>\n",
        "  <td>\n",
        "    <a target=\"_blank\" href=\"https://github.com/tensorflow/text/blob/master/docs/tutorials/text_classification_rnn.ipynb\"><img src=\"https://www.tensorflow.org/images/GitHub-Mark-32px.png\" />View source on GitHub</a>\n",
        "  </td>\n",
        "  <td>\n",
        "    <a href=\"https://storage.googleapis.com/tensorflow_docs/text/docs/tutorials/text_classification_rnn.ipynb\"><img src=\"https://www.tensorflow.org/images/download_logo_32px.png\" />Download notebook</a>\n",
        "  </td>\n",
        "</table>"
      ]
    },
    {
      "cell_type": "markdown",
      "metadata": {
        "id": "lUWearf0Gw-p"
      },
      "source": [
        "This text classification tutorial trains a [recurrent neural network](https://developers.google.com/machine-learning/glossary/#recurrent_neural_network) on the [IMDB large movie review dataset](http://ai.stanford.edu/~amaas/data/sentiment/) for sentiment analysis."
      ]
    },
    {
      "cell_type": "markdown",
      "metadata": {
        "id": "_2VQo4bajwUU"
      },
      "source": [
        "## Setup"
      ]
    },
    {
      "cell_type": "code",
      "execution_count": 4,
      "metadata": {
        "id": "z682XYsrjkY9"
      },
      "outputs": [],
      "source": [
        "import numpy as np\n",
        "\n",
        "import tensorflow_datasets as tfds\n",
        "import tensorflow as tf\n",
        "\n",
        "tfds.disable_progress_bar()"
      ]
    },
    {
      "cell_type": "markdown",
      "metadata": {
        "id": "1rXHa-w9JZhb"
      },
      "source": [
        "Import `matplotlib` and create a helper function to plot graphs:"
      ]
    },
    {
      "cell_type": "code",
      "execution_count": 5,
      "metadata": {
        "id": "Mp1Z7P9pYRSK"
      },
      "outputs": [],
      "source": [
        "import matplotlib.pyplot as plt\n",
        "\n",
        "\n",
        "def plot_graphs(history, metric):\n",
        "  plt.plot(history.history[metric])\n",
        "  plt.plot(history.history['val_'+metric], '')\n",
        "  plt.xlabel(\"Epochs\")\n",
        "  plt.ylabel(metric)\n",
        "  plt.legend([metric, 'val_'+metric])"
      ]
    },
    {
      "cell_type": "markdown",
      "metadata": {
        "id": "hBVZm4JKq3XM"
      },
      "source": [
        "history of a model - a bunch of metrics like training loss over time, training validation over time, etc. "
      ]
    },
    {
      "cell_type": "markdown",
      "metadata": {
        "id": "pRmMubr0jrE2"
      },
      "source": [
        "## Setup input pipeline\n",
        "\n",
        "\n",
        "The IMDB large movie review dataset is a *binary classification* dataset—all the reviews have either a *positive* or *negative* sentiment.\n",
        "\n",
        "Download the dataset using [TFDS](https://www.tensorflow.org/datasets). See the [loading text tutorial](https://www.tensorflow.org/tutorials/load_data/text) for details on how to load this sort of data manually.\n"
      ]
    },
    {
      "cell_type": "code",
      "execution_count": 6,
      "metadata": {
        "colab": {
          "base_uri": "https://localhost:8080/"
        },
        "id": "SHRwRoP2nVHX",
        "outputId": "c9b33375-e2ef-4b6a-c1a0-ecaf8f0a8ac7"
      },
      "outputs": [
        {
          "name": "stdout",
          "output_type": "stream",
          "text": [
            "Downloading and preparing dataset Unknown size (download: Unknown size, generated: Unknown size, total: Unknown size) to /root/tensorflow_datasets/imdb_reviews/plain_text/1.0.0...\n",
            "Dataset imdb_reviews downloaded and prepared to /root/tensorflow_datasets/imdb_reviews/plain_text/1.0.0. Subsequent calls will reuse this data.\n"
          ]
        },
        {
          "data": {
            "text/plain": [
              "(TensorSpec(shape=(), dtype=tf.string, name=None),\n",
              " TensorSpec(shape=(), dtype=tf.int64, name=None))"
            ]
          },
          "execution_count": 6,
          "metadata": {},
          "output_type": "execute_result"
        }
      ],
      "source": [
        "dataset, info = tfds.load('imdb_reviews', with_info=True,\n",
        "                          as_supervised=True)\n",
        "train_dataset, test_dataset = dataset['train'], dataset['test']\n",
        "\n",
        "train_dataset.element_spec"
      ]
    },
    {
      "cell_type": "markdown",
      "metadata": {
        "id": "nWA4c2ir7g6p"
      },
      "source": [
        "Initially this returns a dataset of (text, label pairs):"
      ]
    },
    {
      "cell_type": "code",
      "execution_count": 32,
      "metadata": {
        "colab": {
          "base_uri": "https://localhost:8080/"
        },
        "id": "vd4_BGKyurao",
        "outputId": "3c80987c-8dbc-4542-b314-53a7f1381408"
      },
      "outputs": [
        {
          "name": "stdout",
          "output_type": "stream",
          "text": [
            "text:  [b'Coonskin might be my favorite Ralph Bakshi film. Like the best of his work, it\\'s in-your-face and not ashamed of it for a second, but unlike some of his other work (even when he\\'s at his finest, which was before and after Coonskin with Heavy Traffic and Wizards), it\\'s not much uneven, despite appearances to the contrary. Bakshi\\'s taking on stereotypes and perceptions of race, of course, but moreover he\\'s making what appears to be a freewheeling exploitation film; blaxploitation almost, though Bakshi doesn\\'t stop just there. If it were just a blaxploitation flick with inventive animation it could be enough for a substantial feature. But Bakshi\\'s aims are higher: throwing up these grotesque and exaggerated images of not just black people but Italians/mafioso, homosexuals, Jews, overall New York-types in the urban quarters of Manhattan in the 70s, he isn\\'t out to make anything realistic. The most normal looking creation in looking drawn \"real\" is, in fact, a naked woman painted red, white and blue.<br /><br />In mocking these stereotypes and conventions and horrible forms of racism (i.e. the \"tar-rabbit, baby\" joke, yes joke, plus black-face), we\\'re looking at abstraction to a grand degree. And best of all, Bakshi doesn\\'t take himself too seriously, unlike Spike Lee with a film like Bamboozled, in delivering his message. This is why, for the most part, Coonskin is a hilarious piece of work, where some of the images and things done and sudden twists and, of course, scenes of awkward behavior (I loved the scene where the three animated characters are being talked at by the real-life white couple in tux and dress as looking \"colorful\" and the like), are just too much not to laugh at. It\\'s not just the imagery, which is in and of itself incredibly \"over\"-stylized, but that the screenplay is sharp and, this is key for Bakshi this time considering, it\\'s got a fairly cohesive narrative to string along the improvisations and madness.<br /><br />Using at first live-action, then animation, and then an extremely clever matching of the two (ironically, what Bakshi later went for in commercial form with Cool World is done here to a T with less money and a rougher edge), Pappy and Randy are waiting outside a prison wall for a buddy to escape, and Pappy tells of the story of Brother Rabbit, who with Brother Bear and Preacher Fox go to Harlem and become big-time hoodlums, with Rabbit in direct opposition to a Jabba-the-Hut-esquire Godfather character. This is obviously a take off on Song of the South with its intentionally happy-go-lucky plot and animation, here taken apart and shown for how rotten and offensive it really is.<br /><br />Yet Bakshi goes for broke in combining forms; animated characters stand behind and move along with live-action backgrounds; when violence and gunshots and fights occurs it\\'s as bloody as it can get for 1975; when a dirty cop is at a bar and is drugged and put in black-face and a dress, he trips in a manner of which not even Disney could reach with Dumbo; a boxing match with Brother Bear and an opponent as the climax is filmed in wild slow-motion; archive footage comes on from time to time of old movies, some and some from the 20s that are just tasteless.<br /><br />Like Mel Brooks or Kubrick or, more recently, South Park, Bakshi\\'s Coonskin functions as entertainment first and then thought-provocation second. It\\'s also audacious film-making on an independent scale; everything from the long takes to the montage and the endlessly warped designs for the characters (however all based on the theme of the piece) all serve the thought in the script, where its B-movie plot opens up much more for interpretation. To call it racist misses the point; it\\'s like calling Dr. Strangelove pro-atomic desolation or Confederate States of America pro slavery. And, for me, it\\'s one of the best satires ever made.'\n",
            " b\"I'm glad that I saw this film after Mr.Sandler became famous.<br /><br />It is bad....bad,bad,bad. There is no plot. It's like watching a painfully dull home movie.<br /><br />I really enjoy his other films......but if you're a fan like me....stay away from this one. It may change your thoughts on Adam. You may never recover from the horror that is this film....I've had a better time watching old folks play scrabble in a home.......\"\n",
            " b'\"Bela Lugosi revels in his role as European horticulturalist (sic) Dr. Lorenz in this outlandish tale of horror and dementia. The good doctor\\'s aging wife needs fluids harvested from the glands of young virgins in order to retain her youth and beauty. What better place for the doctor to maintain his supply than at the alter, where he kidnaps the unsuspecting brides before they can complete their vows? Sedating them into a coma-like state, he brings them to his mansion to collect his tainted bounty,\" according to the DVD sleeve\\'s synopsis. That brief description is much more entertaining and imaginative than the movie.<br /><br />** The Corpse Vanishes (1942) Wallace Fox ~ Bela Lugosi, Luana Walters, Elizabeth Russell'\n",
            " b\"I watched this flick yesterday and I have to say it's the finest horror film made for $36,000 I've ever seen (Sorry Steckler) The film is definitely worth seeking out if you are a zombie fan. This movie reeks of soul and atmosphere. Some of the shots of the zombs are the best ever committed to film. VERY creepy looking dusty webbed corpses slowly shamble to their screaming victims. Brrrrrrr.<br /><br />Hot saggy Canadian women with sexy accents will keep you preoccupied before the HORROR rears its undead corpse eating head. This film entertained from start to finish. I couldn't ask for more than that. My only complaint is that is was too short.\"\n",
            " b'If Todd Sheets were to come out and admit that this movie was intended to spoof the zombie genre, I would change my rating to an eight. Try to imagine a movie where every scene, line, and even every acting nuance was designed to be a parody. I could probably crap out alphabet soup, rearrange what was left of the letters, and still have a better script. Two scenes in particular come to mind when I think of this movie. SPOILER ALERT! One is when Mike\\'s dad and the other dad walk, I repeat walk down a staircase jam packed with zombies. This is a small staircase and even though they brush up against the flailing undead, nothing happens to them. When they reach the end, the ex-marine turns around, says \"God you\\'re a horny bastard\", and shoots only one. The other is in the military complex. The girl stabs a zombie with a machete and is immediately surrounded. The camera moves around her for roughly forty seconds, while she is surrounded by zombies at an arm\\'s length away. She then almost casually runs out from the crowd and joins the other humans. SPOILER ALERT OVER! These scenes must be seen to be believed. Still, I enjoy this movie as much as almost any comedy just because it\\'s so damn funny. Kudos to Todd Sheets for getting so many people in his movie and having the drive to make it but not really for anything else.'\n",
            " b\"Personally, I think that the film was done very professionally, I loved the choreography and the acting. The plot is also gripping and mysterious. The film itself is very emotional, and what I liked about it most is that it makes you think afterwards. Antonio Gades has absolutely lived his role to the end, and I must say that it's one of my favourite pictures and Saura is a wonderful director.\"\n",
            " b'i was lucky enough to see A Chorus Line when it came to my city.. i was younger then.. but it was an Excellent play.. so would someone please tell me why in heavens name did they have to make a movie out of it.. and why Michael Douglas ??? He didnt suit the role.. this movie really sucked BIG time !!!<br /><br />my advise is NOT to rent this movie.. save your money for something better like \"Cats\" ....'\n",
            " b\"This movie was for a while in my collection, but it wasn't before a friend of mine reminded me about it \\xc2\\x96 until I decided that I should watch it. I did not know much about Close to Leo \\xc2\\x96 just that it was supposed to be excellent coming out of age movie and it deals with a very serious topic \\xc2\\x96 Aids. <br /><br />Although the person who has aids \\xc2\\x96 is Leo \\xc2\\x96 the scenario wraps around the way in which Marcel (the youngest brother of Leo) coupes with the sickness of his relative. At first everyone is trying to hide the truth from Marcel \\xc2\\x96 he is believed to be too young to understand the sickness of his brother \\xc2\\x96 the fact that Leo is also a homosexual contributes to the unwillingness of the parents to discus the matter with the young Marcel. I know from experience that on many occasions most older people do not want to accept the fact that sometimes even when someone is young this does not automatically means that he will not be able to accept the reality and act in more adequate manner then even themselves . With exception of the fact that the family tried to conceal the truth from Marcel, they have left quite an impression for me \\xc2\\x96 the way they supported their son \\xc2\\x96 even after discovering the truth about his sexuality and his sickness. The fact that they allowed the young Marcel to travel along with Leo to Paris to meet his ex boyfriend was quite a gesture from them\\xc2\\x96 most families I know will be reluctant to do that. There is a lot of warmth in the scenes in which the brothers spend some time together \\xc2\\x96 you can see them being real friends , concern about each other.<br /><br />Close to Leo is an excellent drama, which I strongly recommend\"\n",
            " b\"DO NOT WATCH THIS SAD EXCUSE FOR A FILM. I have wasted time and money on this and am pretty p**sed off about it.<br /><br />The acting is comparable with high school plays. The script is shocking. There is no plot. Twenty minutes from the end (which I believe I should be rewarded for reaching) I had a headache from all the screaming, crying and wailing the five girls make.<br /><br />The majority of the violence is (rare for a film nowadays) suggested rather than graphically depicted but I found the characters so damn irritating that I wanted to see them, and indeed every single person involved in the making of this piece of s**t, die in the most horrible ways possible.<br /><br />I spend ten more minutes of my life saving you from a very poor 100 minutes of yours. Don't do it.\"\n",
            " b'The Last of the Blond Bombshells is an entertaining bit of fluff. Judy Dench plays Elizabeth, a newly widowed woman at loose ends. She has spent most of her life being the dutiful wife and mother but has never been truly happy.<br /><br />Shortly after her husband\\'s funeral, Elizabeth is having her regular lunch date with her stick-in-the-mud children when she spots a street performer. This sparks memories of when she was a member of an all girl swing band in London during World War II. We soon learn that the band was not exactly all girl as the drummer was a man dressing as a woman ala Some Like It Hot.<br /><br />Elizabeth pulls out her sax (which she has been secretly practicing throughout her marriage) and joins forces with the guitar-playing street musician. Elizabeth is far more talented than the guitarist, and the money begins to flow in. She doesn\\'t take any money as she is wealthy and doesn\\'t need it. Her playing is strictly for artistic fulfillment.<br /><br />Elizabeth is seen one day by Patrick (Ian Holm) who was the drummer-in-drag of the band. It seems that Patrick was - and still is - quite the ladies\\' man, and Elizabeth - being only fifteen at the time - was the only band member who did not experience Patrick\\'s \"talents\" other than drumming.<br /><br />Elizabeth is inspired by her granddaughter to get the old group together once again to play for the granddaughter\\'s school dance. Thus begins a delightful trip down memory lane combined with aspects of a humorous road trip movie - all topped off with some really good swing and blues.<br /><br />I guess I\\'m at the age in which I really enjoy older actresses doing their stuff, and this film is a treasure trove as it not only stars Judi Dench, but she is supported by none less than Olympia Dukakis, Leslie Caron, and a host of seasoned British character actresses. This is all topped off by the extraordinary voice of Cleo Laine.<br /><br />Yes, it is fluff, but totally delightful and exceedingly entertaining fluff.'\n",
            " b'Julian Noble (Pierce Brosnan) is a hit-man. Or a \"facilitator of fatalities\", as he prefers to be called. He is also a drunk, a womaniser, and in the middle of a mid-life crisis. On a job in Mexico City, he bumps into Danny White (Greg Kinnear), an unconfident businessman who thinks he\\'s just nailed a recent pitch, but is unsure. They meet in the hotel bar late one night, after they\\'ve both had a few too many margaritas.<br /><br />Sounds like the set-up for a by-the-numbers comedy thriller, doesn\\'t it? But it isn\\'t. Instead, The Matador is a funny and sometimes touching character study. It avoids every twist that the above summary would suggest, sometimes even setting them up just to gleefully tear them down. It is a film that respects it characters enough to just let them get on with it, without feeling the need to shove them into needless plot contrivances.<br /><br />Brosnan\\'s hit-man will inevitably be compared to his Bond, but this is unfair to both performances. Bond is a half-formed idea, a product of all that has gone before; while Julian is a fully-formed character with his own motivations and flaws. He has existed in his own shadowy, seedy world for so long that he has forgotten how to talk to another human being.<br /><br />When he meets Danny in the hotel bar, he sees his opposite: a normal guy with a normal job and normal problems. He envies Danny; the hit-man has become fed up with his life, sees himself edging ever closer to his inevitable \"burn out\", as he puts it. But when Danny opens up about the death of his only son, Julian tries to change the subject with a dirty joke. He is a man who has, in his own words, been \"running from any emotion.\" Kinnear holds his own opposite Brosnan\\'s performance, and injects Danny White with his effortless everyman charm. He is the perfect foil to Julian; while the latter is drunken bravado and hedonism, Danny is down to earth, with just a hint of eccentricity. But he too goes deeper than his established persona, showing us how far the everyman will go when faced with financial and familial ruin.<br /><br />There is real chemistry between Brosnan and Kinnear. It is most visible in the film\\'s three key scenes: the hotel bar; a bullfight, during which Julian tells Danny what he does for a living, and takes him through a dress rehearsal of an assassination; and a scene in which Julian turns up at Danny\\'s house six months later. This scene also introduces us properly to Danny\\'s wife, Bean (yes, Bean). In another example of how much The Matador respects its characters, Bean (Hope Davis), instead of panicking at the presence of a hired killer in her house, merely asks with forced calm, \"Did you bring your gun?\" The script isn\\'t quite as good as could have been after maybe another rewrite. One or two lines seem a little forced, and a couple of the jokes need a little more work. But in the scenes where Julian and Danny (and later Bean) just talk, the writing is superb. The film feels no need to put the characters in any outlandish situations (other than meeting a hit-man, and said hit-man turning up on your doorstep). It just lets them talk, gently nudging them toward necessary plot points.<br /><br />There is action, but only when it reflects on the characters. One notable instance is when Julian botches a job in Budapest because he keeps seeing himself through his rifles scope. The rest of the film is about the characters, how they interact, how they each affect one another. And, ultimately, it is about friendship, even in the most unlikely of places. At one point Julian tells Danny that he is his only friend. And he really means it.'\n",
            " b\"Shamefull as it may be, this movie actually made it to the videomarket, bringing shame on my proud country - any attempt to watch this movie without stopping or pausing, will be a fruitless attempt. one cannot bear to see more than one hour of this, then having either fallen asleep, or visited the bathroom for puking.<br /><br />Note: if you haven't seen anything else from Denmark, please remember this:<br /><br />some things were never meant to be - but still some idiot goes ahead and makes it anyway!\"\n",
            " b\"This could have been a good episode but I simply had to turn it off. The British representation was horrible to watch. Have the makers ever set foot in Britain prior to filming? At least set foot in England?? I don't think any British person have had such an accent apart from a comedy skit of The Royal Family! Also with the 2 English boys... well I don't think any English boy has acted, spoke or dressed like any English kid in the history of the British nation since Prince William and Harry's preteen public appearances. To American film makers.. There is more than 1 country in the UK. England, Wales, Scotland and Northern Ireland.. meaning more than 1 culture! I can handle some stereotyping but this was so bad I could not watch it. Fire looked cool though!\"\n",
            " b\"There isn't a whole lot going on in this story -- just two men employing very different ways of handling memories of Vietnam. But what it lacks in premise, it more than makes up for in acting and realism. It's a quiet film about the bonds of friendship and shared experience. We even get romance (not gratuitous -- just another very real piece of this story). It's well worth seeing.\"\n",
            " b'I grew up in Southern West Virginia; I\\'m about the same age as (or maybe a year older than) Homer Hickam, author of \"The Rocket Boys,\" the book forming the true-story basis of this heart-warming film.<br /><br />And so I relate closely to the West Virginia coal-mining theme, and to the stunning effect Sputnik had at that time (October 4, 1957) on all of us. The Rocket Boys went on to make great lives for themselves. I went on to get my degrees in Physics and Computer Engineering. All because Sputnik woke up a lot of young people to the \"Science Gap\" the U.S.S.R. had on the U.S. in those Cold War days...<br /><br />This is a wonderful film for everyone, of all ages. But if you grew up in West Virginia in the late 1950\\'s, it\\'ll touch the core of your being.<br /><br />Everyone: Get it; watch it; recommend it to your friends... who\\'ll thank you many times.'\n",
            " b\"it aint bad, but it aint good. it is just entertaining.<br /><br />as a comedy which it is supposed to be, it's dreadful. not many laughs at all as every joke in the movie has been done a million times before.<br /><br />it's a shame as all the actors in the film are great usually, but none of them really do much. and the ending sucks.\"\n",
            " b\"This Batman movie isn't quite as good as Batman mask of The Phantasm and Batman and Mr. Freeze subzero But it is still a good installment to the Batman cartoons I say it is equally good as Batman Beyond The Movie. This movie is good for all the same reasons The storyline is good not quite as good as the other one's but still pretty good it has lots of action in it The Cartoon effects are good The voice of actors are really good such as Kevin Conroy as Batman/ Bruce Wayne, Tara Strong as Barbra Gordon, Efrem Zimbalist Jr., Eli Marienthal as Robin. The villains are good such as Kyra Sedgwick as Batwoman, David Ogden Stiers as The Pequin, Hector Elizondo as Bane. So I am sure you will not be disappointed with batman Mystery of The Batwomen. So make sure that you rent or buy batman Mystery of The Batwoman the movie because it is really good.<br /><br />Overall score: ******* out of ********** <br /><br />*** out of *****\"\n",
            " b\"A trio of buddies, sergeants all in the British Army, carouse & brawl their way across Imperial India. Intensely loyal to each other, they meet their greatest & most deadly challenge when they encounter the resurgence of a hideous cult & its demented, implacable guru. Now they must rely on the lowliest servant of the regiment, the water carrier GUNGA DIN, to save scores of the Queen's soldiers from certain massacre.<br /><br />Based more on The Three Musketeers than Kipling's classic poem, this is a wonderful adventure epic - a worthy entry in Hollywood's Golden Year of 1939. Filled with suspense & humor, while keeping the romantic interludes to the barest minimum, it grips the interest of the viewer and holds it right up to the (sentimental) conclusion.<br /><br />It is practically fruitless to discuss the performance nuances of the three stars, Cary Grant, Victor McLaglen & Douglas Fairbanks Jr., as they are really all thirds of a single organism - inseparable and, to all intents & purposes, indistinguishable. However, this diminishes nothing of the great fun in simply watching them have a glorious time.<br /><br />(It's interesting to note, parenthetically, that McLaglen boasted of a distinguished World War One military career; Fairbanks would have a sterling record in World War Two - mostly in clandestine affairs & earning himself no fewer than 4 honorary knighthoods after the conflict; while Grant reportedly worked undercover for British Intelligence, keeping an eye on Hollywood Nazi sympathizers.)<br /><br />The real acting laurels here should go to Sam Jaffe, heartbreaking in the title role. He infuses the humble man with radiant dignity & enormous courage, making the last line of Kipling's poem ring true. He is unforgettable.<br /><br />Montague Love is properly stalwart as the regimental major, whilst Eduardo Ciannelli is Evil Incarnate as the Thuggee guru. The rest of the cast, Joan Fontaine, Robert Coote, Lumsden Hare, are effective but have little to do. Movie mavens will recognize Cecil Kellaway in the tiny role of Miss Fontaine's father.<br /><br />The film picks its villains well. The demonic Thuggee cult, worshipers of the hideous, blood-soaked Kali, Hindu goddess of destruction, was the bane of Indian life for 6 centuries, ritualistically strangling up to 30,000 victims a year. In 1840 the British military, in cooperation with a number of princely states, succeeded in ultimately suppressing the religion. Henceforth it would remain the stuff of novels & nightmares.\"\n",
            " b'\"Why did they make them so big? Why didn\\'t they just give the money to the poor?\" The question about cathedrals was asked by a student to Mr. Harvey during a school field trip to Salisbury Cathedral. \"That\\'s a good question,\" he replied. \"Partly to inspire them - to get them to look up with awe.\" I\\'m not sure that cathedrals have that impact on everyone, but this movie certainly had that impact on me. It was awesome! <br /><br />It didn\\'t start out that way. For a while it seemed to be little more than a depiction of - well - a school field trip to Salisbury Cathedral. If you\\'ve ever been on a high school field trip to anywhere this is basically it. You have a group of largely disinterested kids just happy to be out of school for a day, the bus driver who\\'s driven crazy by them and some teachers trying desperately to keep it all under control. Been there, done that, got the t-shirt was my initial reaction. I figured that in the end this was going to be a typical story of a teacher managing to inspire a group of disinterested students. YAWN! But it turns out to be so much more! Timothy Spall was brilliant as Mr. Harvey - a sombre, unsmiling teacher with a strange fascination for cathedrals. Over the course of the movie, his story slowly comes out and becomes the focal point of the story. We also get introduced to some of the troubled students - most notably Helen, also brilliantly played by Nathalie Press, who\\'s into self-mutilation.<br /><br />This isn\\'t a religious movie, but it includes some powerful reflections on religious themes. When Harvey\\'s colleague Jonathon (played by Ben Miles) says \"I don\\'t care what anyone believes as long as they don\\'t try to force it on anyone else\" Harvey replies, \"that isn\\'t tolerance - it\\'s indifference!\" - which is, in fact (in my opinion) what often passes for religious tolerance in our society. There are scenes of reconciliation between various characters, and the final scene of the movie was brilliant. As Harvey climbs back on the bus, director Susanna White has the camera slowly pan upwards, so that the final shot is simply of the sky - hearkening back to Harvey\\'s comment that the purpose of the cathedral is to get people to look up in awe. The cathedral accomplishes its goal. We look up into the universe in awe, seeking something greater than ourselves, however we choose to define it. This is a very powerful and very inspiring movie. 9/10'\n",
            " b'\"Smokey And The Bandit\" wasn\\'t exactly Shakespeare, but then nobody wanted it to be. It was lowdown slapstick, but it did have brains. It had a very smart script with definable characters and a fun wrap-up. People came out of the theater smiling. \"Hooper\" provides none of this. There is no reason to smile. If it\\'s supposed to be a tribute to the Hollywood Stuntman, it makes them look awfully lazy by providing nothing but badly-choreographed fight scenes and one of the most unconvincing car-jumps I\\'ve ever seen. It all looks phony, badly-filmed almost on purpose. Poor Sally Field (as the girlfriend who wrings her hands on the sidelines) is given her weakest role, with not a single funny or smart line (\"If you do that jump, I won\\'t be here when you get back\"). Burt Reynolds keeps looking at the camera and winking, but the joke is on any audience who sits through \"Hooper\". * from ****'\n",
            " b\"I LOVE the Doodlebops. My son has been watching them for over a year. We went to the Doodlebops concert last year as well as one concert yesterday (connecticut). He LOVES them. The doodlebops do not teach the alphabet or numbers but who cares? are you being serious? the TV isn't suppose to teach your children about numbers or the alphabet. the parents should. Get over it. The Doodlebops actually CAN sing. Deedee has a beautiful voice and in concert you can tell all 3 of them have nice singing voices and do NOT lip sing. Imagine, they dance, jump around and STILL sing. they have talent, the kids love them i even enjoy watching the show. This show is by far the best show on TV for kids. AND a rock band for children. How amazing is that? Why are people saying Chad (rooney) is gay? where did you hear that from? Whether he is or not, He is awesome! Leave him alone. Its not like he or anyone else is promoting homosexuality to our children!\"\n",
            " b\"I loved this mini series. Tara Fitzgerald did an incredible job portraying Helen Graham, a beautiful young woman hiding, along with her young son, from a mysterious past. As an anglophile who loves romances... this movie was just my cup of tea and I would recommend it to anyone looking to escape for a few hours into the England of the 1800's. I also must mention that Toby Stephens who portrays the very magnetic Gilbert Markham is reason enough to watch this wonderful production.\"\n",
            " b'As is well-known among long haired youngsters who are incredibly interested in this Herr Graf\\'s silent rants, during summertime aristocrats like to travel to exclusive and distinguished places in order to avoid the heat as well hordes of coarse people taking their ease. Such bizarre travels around the world also happen in \"Three Ages\", a charming and elegant piece of silent work directed by old hands, namely Herr Buster Keaton and Herr Eddie Cline.<br /><br />Obviously this German count liked most the first segment focused on the Stone Age due to the affinity that this aristocrat feels about that ancient time. preferring that to the second segment which takes place during the glory of Rome (It should have included the cause of the fall of the Roman empire, that is to say, Barbarians, or the same thing, Germans). Of course, the third segment takes place during modern times but this Teutonic aristocrat thinks that even 100 years ago should qualify as modern.<br /><br />The leitmotiv that moves Herr Keaton and his companions to travel and endure the strange and hilarious happenings during three different ages, is the search for love, a very complicated subject to understand for aristocrats who prefer the search for money and self interest. Every time that \"Three Ages\" is shown in the Schloss theatre, it is always a pleasure to watch a funny, witty silent film (even for a serious German count), an oeuvre full of gags and gadgets, puns, pratfalls and acrobatics, visual and astounding technical tricks, an absolute silent delicatessen that is perfect to allow one to endure the various and coarse summertime severities.<br /><br />And now, if you\\'ll allow me, I must temporarily take my leave because this German Count must flirt with an old Teutonic heiress who doesn\\'t look her age.<br /><br />Herr Graf Ferdinand Von Galitzien http://ferdinandvongalitzien.blogspot.com/'\n",
            " b\"Like Freddy's Revenge, this sequel takes a pretty weird idea and doesn't go to great lengths to squeeze a story out of it. Basically Alice from number 4 is pregnant and her baby is haunted by Freddy which gives him an outlet to haunt her friends. This has the least deaths out of the whole series and the wise-cracks are quite poor, so neither the horror fans or comedy fans are happy. <br /><br /> I've not alot to say about this. It's moderately interesting to see the characters of Alice and Dan returning from four, but not worth watching a movie over. Uninspriring and unenjoyable, possibly only the competant direction saves it from being the worst in the series.\"\n",
            " b\"****Excellent<br /><br />***Good<br /><br />**Fair<br /><br />*Poor<br /><br />`Go Ahead, make my Day!' <br /><br />The fourth picture in the series is directed by Eastwood himself (Who was rumored of directing most of Magnum Force) and he brings back the violent society from the first two films. However, the film still lacks impact and believability. This film was released in the early `80s, the time of Regan and the young republicans. The premise of a raped woman taking vengeance on her rapist doesn't appeal to this time frame. This plot would have been better for the Enforcer, which actually would have made it a good movie. What Sudden Impact needed was a plot like in Wall Street but with Dirty Harry in the middle. <br /><br />RATING: 3 STARS\"\n",
            " b'I collect Horror films from all over and I have seen the good and the very bad - Zombie Bloodbath is a low budget video. Sure, the acting is bad, the storyline is basically a mix of all zombie movies thrown together and the quality is low in some spots. The thing you seem to be missing is that it\\'s still entertaining and really very fun. The effects range from, like someone on here has said, pasty-faced zombies that look like KISS rejects to really good ones with some amazing latex work. But the reason you buy a movie with a title like this is for the gore and this film is amazing in that area. The effects are very good for such a small film. Someone called it a Party movie and it is. 100% fun party movie. I have heard from various websites that this is actually a \"rough cut\" of the film that got general release but the actual \"director\\'s cut\" is coming on DVD and it is very nice quality. I will buy it and judge for myself.<br /><br />Story is basically a Nuclear power plant goes bad and makes zombies. The gov\\'t closes it down, hides the story and sanctions houses to be built over it. Some of the plant is still underground and these undead come up and attack the area. A few actors do a great job, there\\'s some pretty straight social commentary that is insightful and true, good music, great lighting, some effective suspense and tons of blood and sick gore. One guy gets attacked and ripped from the lower area all the way up, if you know what I mean. Then his guts are shoved out of his mouth. Another is torn in half like in Day Of The Dead and they did a great job of that effect. There are a million gore gags and it\\'s almost ALL action. I say stop being a prude, enjoy life and get more movies like Zombie Bloodbath and Meat market. Two great undead epics.<br /><br />OK - UPDATE!!! I just got the DVD set and here is what I thought:<br /><br />MUCH better picture quality and for once I was able to see the actual DIRECTOR\\'S CUT of the film and it is a much better movie. I liked it before, but now I can see what Todd Sheets was actually trying to do with this one. And the commentary helps too, hearing Sheets talk about the film in detail, He knows it\\'s a trashy zombie movie, but he does show respect to all people involved. Also, Sheets has a great sense of humor and some humble integrity that others could learn from in the movie field. The behind the scenes of Zombie Bloodbath is pretty fun as well. I felt it was almost as entertaining as the film it was made for. There are some great interviews and behind the scenes footage, mixed with news stories about the film from some major places like CNN, FOX and MTV. Over all, a fun little film that is VERY rough around the edges, but still had me laughing and enjoying the ride! I have seen many DV films, and some shot of video films, and many are quite dull, but this one really wasn\\'t. While newer DV films are technically superior, they just aren\\'t this much fun!<br /><br />PS - I heard they are now remaking this on a big budget???'\n",
            " b'1/10 and that\\'s only because I don\\'t go lower with my ratings.<br /><br />skip this \"movie\" and wait for the last movie of the \"Trilogy\", don\\'t buy or rent it. trust me you won\\'t be missing a thing. the Architect brings no new info: _(spoiler)_ there have been more NEO\\'s before him, he\\'s like nr.6 or something. you could already figure something like that out from the first movie: Agent Smith telling us the first Matrix created didn\\'t work because it was too perfect. Trinity died and Neo\\'s \"love\" brought her back, where have I seen this before ? Oh right in the first movie the roles where reversed ! same as the action-scenes nothing new just with more opponents. the Action-scene (the 20+ ships) in the BIG battle which we didn\\'t see (maybe in Revolutions ?), betrayed by someone (hmmmm, maybe the guy holding the knife who wanted to stab Neo?!) who pushed the EGM-button to soon.<br /><br />all in all a shameless ploy to make money (especially off the guys who went to see it more then once), which evidently worked like a charm.'\n",
            " b'From the beginning this movie did have a few flaws. The main character played by Hayden Christensen is a the rich young mogul who has inherited his father\\'s considerable wealth and power, and he is struggling to both fill his father\\'s shoes and cut the apron strings mother (and co-executive) keeps too tight. He also has the problem of having a heart condition and waiting in the limbo that is the organ donor registry. There are also minor back stories which your first instinct is to mostly ignore that become important later, such as his friendship with his surgeon (Terrence Howard) and his romance with a middle class girl (Jessica Alba). Uncreative story lines, but not bad enough to ruin the movie. The only real \"oy vey!\" moment was the name of Lena Olin\\'s character. Overbearing woman named Lilith...subtle!<br /><br />The surgical scenes are not at all censored. I appreciated that, people who find surgery scenes scary might not. The horror of being awake during anesthesia was done well at first. You watch in emotional agony as Christensen screams inwardly through the chest incision and the rib spreader. The moment of irony from the trailers then comes where while he is one of the unlucky few to be awake during anesthesia, he is also luck in that it helps him learn that his surgical team is planning to murder him.<br /><br />The big twist, however, is very predictable and sends the film delving into the conspiracy and his memories of the little signs which were there but he, like us, initially missed. <br /><br />There are two more twists at the end involving his relationship with his mother. One is an impressive gesture by Olin, which comes of as unimpressive due to poor writing. The other is a secret about the family\\'s past which seemed very tacked on and pointless.<br /><br />The initially well done anesthesia awareness drama gets lost in the poorly written conspiracy drama. There is a one final attempt to bring it back which falls flat, taking the entire movie with it.'\n",
            " b\"This movie is about sexual obsession. Bette Davis plays Mildred. This is a woman who men are drawn to. Not because she is a nice beautiful girl but because she is a sexual entity. Now the movie does not come out and say that but it is obvious. There is a scene in the movie in which men are all going googly eyes over her. She works as a waitress in a coffee shop, she can't read and she not really anybody to look at but she is a flirt. It is obvious the male customers in that coffee shop are there because of her. One day Phillip a club footed failed painter medical student comes in the shop to say a good word for his friend but he becomes besotted the moment he sees her. He starts buying her things even pays for her apartment. Meanwhile she is seeing other people and she makes no secrets of it. He dreams about her like she is a angel, but she is no angel. He is constantly thinking about her. His med school grades are even failing. So what the nookie is too good. He wants to marry her but she rejects him because she is marrying another guy. She always lets Phil know she really doesn't have love feelings for him all of time. He is heart broken but he meets another woman. They seem fine but it is obvious he is still dreaming of the Bimbo. Mildred does comes back with a baby and unwed. Phillip takes her in again, but she starts going out with a friend of his, the light bulb comes on a little and he kicks her out. She does what she knows works so she tries to seduce him, well it doesn't work and she proceeds to burn his tuition money up. Oh we have a club foot that he has problems about, even though a street teenager who has the same problem tells him to lighten up about it. He meets another girl named Sally we have a March of time montage which shows her aging while he strings her along still waiting for Mildred. Well he has no school tuition, can't find a job. Finally Sally and her dad takes him in. Not before another March of Time montage showing him going downhill. Soon his uncle who raised him dies and he gets money to become a doctor. Meanwhile he finds Mildred needs him again. She has TB. meanwhile he is still leading Sally down the Primrose path about marriage and he takes a job on a steamship. Finally the bimbo dies and Phillip declares he is free now and he will marry Sally. I wished she told him to stuff it. Now I know my take on the characters are not going to get me any points. But I feel Phillip was the bad guy. Yes Mildred is a Strumpet BUT he knows it, and he keeps coming back. Mean while he has two other girlfriends who love him but he treats as appetizers. I guess the sex wasn't as good. But in any case he dogs those women waiting for Mildred. Not only that but the man who gets Mildred pregnant is already married and when Philip asks him what he intends to do about Baby ( apparently the baby's name) he laughs is off, he has no intention in supporting her and Baby and he is wealthy. Sally's father who has 9 children say some pretty nasty things about women but he is said to be a old traditionalist. Philip doesn't seem to refute his feelings either. Men are using Mildred as a Boy Toy but the men in this movie come out as unscathed. Yes she was not a respectable woman but far from a villain. To me it is Philip who was had the real problem and it was his sexual obsession for Mildred.\"\n",
            " b\"I enjoyed every moment of this beautiful film and was intrigued about this female painter I had never heard of before. So I set out exploring her life and work afterwards. As could be expected, I found out that the film was not exactly historically accurate. I was a little astounded however by the very negative comments on the film because of this inaccuracy. Come on, guys, a film isn't and shouldn't be a biography (nor a novel!). Any historical film distorts reality, because it should be a work of art in its own right. A film director is fully entitled to use elements from reality and history to create a world of his own. Artemisia is a wonderful film and I think it brought many people (including some that now give negative comments) to explore the life and work of this fascinating artist.\"\n",
            " b\"I was VERY disappointed with this film. I expected more of a Thelma and Louise female-buddy crime movie. Instead, the women prison escapees in this flick, had no sense of loyalty to one another. They were an extremely vulgar pack of hyenas, who beat each other up, double-crossed each other, and even committed lesbian rape against other women in the film.<br /><br />Instead of being shrewed thieves, who stuck together to plan their escape and find the hidden stash of money, the women escapees were too selfish and vicious, to trust each other for long. These women weren't liberated in a positive sense. They just ended up being a bunch of loose-cannons, incapable of respect for themselves, or each other. If you like 70s female crime caper films, skip this bomb, and see The Great Texas Dynamite Chase, which stars Claudia Jennings and Jocelyn Jones.\"\n",
            " b'Evidently when you offer a actor enough money they will do anything. I am not sure how much John Rys-Daves got, but most of the money he made should go to his fans as an apology for even being associated with such a ROTTEN movie. The special effects were worse then effects from the 1950\\'s B movies and the acting of the rest of the cast was even worse. As to how bad the acting was a child gave the second best performance in my opinion. The English was terribly accented and I think no one could really even speak English they just memorized how the words should sound instead of memorizing the script and trying to make their character both \"life-like\" and real.'\n",
            " b'Horrible. I see many user comments on how great this show is. It truly is a Wanna-Be-Friends - Made in Taiwan knockoff. The jokes are lame as...and the plot is ridiculous. The actors are obviously struggling to be funny and are probably cringing when they hit those awful punchlines (if you can call them that). The bulk of the other users who have commented are obviously from another planet (or at least another continent). There are obviously reasons that TV companies cancel shows...and none of then are when shows are doing well. Make sense? Anyway, steer clear - even if it is raining and there is absolutely nothing else on this planet to do...go stand in the rain instead - more fun.'\n",
            " b\"This movie appears to have been made by someone with some good ideas but who also never had made a movie before nor had they considered that a script should be edited or even funny. When I saw this film, I saw it for John Candy and assumed, incorrectly, that it would be hilarious. Instead, there was a stupid plot about mind control and so many flat, unfunny moments. And, to top it off, Candy delivered some of the crudest lines I had ever heard up to that time. So, despite a potentially funny cast and story idea, we are left with an amateurish and crude movie that will probably be too stupid for the average adult, though teens will probably find a few laughs. It's really a shame--it could have been so much better. I mean, with Eugene Levy, Joe Flaherty and John Candy it SHOULD have been wonderful.\"\n",
            " b'This movie is a cringe-fest of bad acting and poor set design as well as tacky lines and a lame plot. But it is so much fun to watch. Everything about it is hilarious.The basic plot is a group of scientists from the future travel back in time to capture their evil co-worker who is intent on destroying them all. They catch up with him in the year 1146. The \\'futuristic\\' lab of the scientists from the year 2033 is an eighties-style room with a bunch of \\'futuristic\\' flashing buttons and a time capsule that looks like a lawn shed. The actors deliver their lines with unenthusiastic aplomb, which isn\\'t hard to understand considering that the lines are usually earth-shakers like \" I double-checked everything twice!\" He double checked everything twice? He checked it four times? Not only that, but they feed you the entire premise of the movie in the first five minutes, and continue at a rapid fire pace until they hit the medieval part. When Roger Corman ran out of money. And had to stop travelling through time and consequently different sets. The medieval set is a comic mish-mash of anything from the late 10th century to the 16th century. Any costume they could find, they used. I guess chain mail wasn\\'t on the budget, \\'cause the guys all wear sequined shirts masquerading as armor. The fight scenes are laughable, with men casually throwing themselves onto cardboard swords with abandon and dying in death throws with nary a blow cast.It sounds truly awful, but I enjoy it every time I watch it. The lines alone are enough to have you in fits and everything else pulls together to create a fabulous B-movie that, if you are a connoisseur of corny flicks, I would suggest you see. And once you have, read the review on Unknown Movies. I love hearing them point out all the funny, truly awful bits in the movie.'\n",
            " b'This is a kind of genre thing, meaning you either like the 1950s musicals or you don\\'t. If you do, you\\'ll love this. Personally, I prefer the 1930s and most of the \\'40s musicals with the dancing talents of Astaire and Rogers, and Eleanor Powell, Bill Robinson, Ruby Keeler, James Cagney, Shirley Temple and so forth but the songs of the \\'50s, the slower dance numbers and the soapy melodramas of the decade all turn me off.<br /><br />This film is a case-in-point. The first song was okay but the next three did nothing for me. By then, the story didn\\'t have much appeal, either. The presence of Deborah Kerr is another minus. I don\\'t think I\\'ve seen a movie she starred in that I liked, including this one, where the goody two-shoes English teacher she portrays spends half the movie threatening to leave Siam. (I which she had!). <br /><br />However, divorcing myself from likes-and-dislikes, there is no denying this Rogers and Hammerstein production has a lot of appeal to many folks, particularly those who liked \"The Sound Of Music\" a decade later. There are similarities in the R&H musicals. Thus, if you liked the Julie Andrews flick, you should like this, too. <br /><br />This is a Lavish production with, yes, a capital \"L.\" This is the kind of big-production musicals you rarely saw after that generation. You also get the dubbed singers, unlike today, where the actress isn\\'t able to really sing so Marnie Nixon comes to rescue of Kerr, as she did with Natalie Wood in \"West Side Story\" and Audrey Hepburn in \"My Fair Lady.\" <br /><br />Yul Brynner is \"King Mongkut\" and is the stereotypical traditionalist, the kind filmmakers always portray in a negative way. He isn\\'t \"progressive,\" as the left wingers like the say, but the education teacher (Kerr, as \"Anna Leonowens\") will set him straight. Secular-progressives of today always place teachers higher than people trying to cure cancer! However, Yul is good in this role and even employs some comedy along with his more-bark-than-bite character. Justifiably, he is the big star of this film. Brynner had magnetism. Even in \"The Magnificent Seven,\" Yul was the one cowboy who mesmerized the audience.<br /><br />In summary, it\\'s a fine movie for its day and millions of people enjoyed it. I\\'ll leave it at that.'\n",
            " b'Damp telling of the American Revolution.<br /><br />When farmer \\'Tom Dobb\\' (Al Pacino) and his son arrive in New York Harbor, they are immediately conscripted by street urchin Annie Lennox... Annie Lennox?... to contribute to the war effort.<br /><br />After getting chopped down by bits of chain-link fired from British cannons, Tom and his son are promptly chastised by Continental Army sympathizer \\'Daisy\\' (Nastassja Kinski) for \\'not standing their ground\\'. Following this Kodak moment, a series of digressive chapters take place including Tom\\'s participation in a \\'foxhunt\\' in which he must carry a model of \"poor old Georgie Washington\" stuffed in effigy while running from a lace handkerchief-wielding English captain (Manning Redwood), and having a barbecue with a group of Iroquois Indians as they plan on the best way to sneak back into the fighting so Al and his ingrate kid can kick the crap out of British officer Donald Sutherland\\'s butt.<br /><br />Director Hugh Hudson presents a unique style of film-making and the atmosphere is as thick as the proverbial London fog, but the scriptwriter\\'s painting of the redcoats as evil monsters once again reveals Hollywood\\'s patented hatred of the British.<br /><br />Steven Berkoff appears as an enlisted American soldier.'\n",
            " b'Having read another review, I thought this movie would actually be good. I do enjoy the \"B\" movies, but this couldn\\'t even be classed as such. The photography is probably the only half-way decent thing in the movie. But the editing left much to be desired. It was very choppy and staccato. Whoever chose the music and sound did a terrible job. The music was awful, specially anything atmospheric or scene setting. If the acting had been better, they could have pulled the movie off. Unfortunately, I\\'ve seen better acting in porn flicks. If you want to see a \"B\" vampire movie, check out \\'Blood Ties\\'. You\\'ll be much more entertained.'\n",
            " b\"Why did I waste my time with this movie? There was not a single funny joke or line throughout. The slapstick wasn't even mildly funny. I mean really, an out of control vacuum sucking pipe? Why has the National Lampoon's name been attached to this movie? Even Christmas Vacation was better than this (I actually thought that film was very funny).<br /><br />AVOID LIKE THE PLAGUE!\"\n",
            " b'There isn\\'t one decent scene.<br /><br />Amy Adams gives one of the worst performances of all time. Proof that you a can start anywhere. The guy playing Sebastian sucks, too. He doesn\\'t even look much like Ryan Phillipe. More like Joshua Jackson. The two other girls are terrible, as well. <br /><br />Then the dialogue is also crap.<br /><br />Sebastian (About to have threesome): If you cant beat them... <br /><br />Virgin Girl: Who says you can\\'t beat \\'em?<br /><br />Lame.<br /><br />The ending contradicts the entire plot of the original. In the first film, it is clearly stated that Kathryn and Sebastian never had sex. One of the reasons Sebastian wanted Kathryn so bad, aside from the fact that she\\'s played by Sarah Michelle Gellar, was that she was \"the only girl he couldn\\'t have and it killed him\". She was a tease who liked playing with him. The fact that she never gave it to him increased his wanting. Then in this P.O.S., it implies that he CAN have her, along with a girl on the side. What? And we don\\'t even see the sex, either. It\\'s implied, making it not only stupid, pointless, and contradictory, but worthless too.<br /><br />And in the first one, Kathryn rejects Sebastian because he fell in love, making him a loser. Even though he won the bet, that crumbled his chances. Then in this excrement, he looses AND falls in love. So she doesn\\'t screw \"losers\", only complete losers? Another thing: it\\'s stated that Sebastian has never been in love, so what do you call the thing with Virgin Girl?<br /><br />Then at the end, virgin girl is all of sudden revealed to be Kathryn\\'s evil lesbian lover (dun dun dun) and, like I said, they go into a lame offscreen threesome. Stupid. <br /><br />There\\'s several other plot contradictions. Did the writer even see the first film? A 5 year old can point his stuff out.<br /><br />After the threesome, Sebastian has sex with the blonde virgin, corrupting her innocent mind in the back of a limo while Kathryn and Virgin Girl Turned Evil Lesbian In Lame Sudden Plot Twist sit in the front, listen, and smile evilly into the camera. <br /><br />The end... <br /><br />Seeing Sebastian become the ass hole he was in the first one could have made an interesting film. I guess all it took to make little Sebastian bad was a threesome with two hot girls. Interesting.'\n",
            " b\"I only gave this ridiculously titled comedy horror flick a 2 because several famous porn stars of the past appear in it. A group of tourists, supposedly on vacation in Ireland but actually in Canada, run afoul of a cannibalistic inbred mutant something or other, and the plot is more or less right out of THE HILL HAVE EYES ands WRONG TURN. Only problem is, unless I miscounted, there's only one mutant on display, and he isn't all that impressive. Sort of like the potbellied mummy in that homemade film from about five years ago. Some gory but silly deaths help, but the film is strictly amateur night and boring beyond belief. The ending is predictable and has been done to death. No pun intended.\"\n",
            " b'When I saw this movie, circa 1979, it became the first movie that I ever walked out of in the middle. There is nothing worse than comedy that just misses being funny, and this misses every time (although I can\\'t speak for the last 25 minutes of the movie). There was nothing original about any of the skits. While I enjoy racy humor where appropriate, these skits were needlessly vulgar. What was even more irritating was that this movie was advertised as \"Robin William\\'s first movie\", capitalizing on his new found fame in the \"Mork and Mindy\" television series. Yet his role turned out to be so minor that you cannot even notice him on-screen.'\n",
            " b\"I was hoping for some sort of in-depth background information on the Apollo 11 mission and what I got was some decent interview material with Buzz Aldrin Gene Krantz and other people involved in the mission, linked by over-hyped disaster-predicting sensationalising voice-over in the worst tradition of TV production.<br /><br />If you could cut out the voice-over and change the spin of the program to a positive testament of how people can overcome setbacks to achieve a goal out of the ordinary then this could've been great - but I feel I've wasted about 45 minutes of my life whilst watching a 60 minute programme. I want those minutes back.\"\n",
            " b'(Question) What do you call 100 film critics buried up to their necks in sand? (Answer) A good start. Well, I don\\'t know Peter Mattei from Adam but if he is the budding auteur his filmography suggests, \"Love in the Time of Money\" is a \"good start\". A classy shoot with whimsical music box style music, this flick looks at a chain of tenuous relationships as it moves from person A to person B to person C...etc...and back again ending with persons A & B in carousel fashion. The film gently probes the unhappy circumstances of nine people with finely rendered shadings beginning and ending with a street whore and her client. The downside of this film is the lack of a story which may have something to do with the many critical slams it received. I watched the behemoth \"Angels in America\" last night and was bored at the end while this little concatenation of character studies kept me spell bound. Use caution. I may be the only person who really liked this flick. (B)'\n",
            " b'If you can imagine Mickey Mouse as a New York street pimp, or John Wayne as a Communist spy, then you might believe Pat Boone as a juvenile delinquent on his uncle\\'s farm in Kentucky and you could conceivably enjoy this movie.<br /><br />This film is so stupid that it isn\\'t even campy for a mid 1950s sexless love story. And the problem is that Hollywood made such a big deal about Pat Boone\\'s refusal to kiss a woman not his wife on screen before its release that the audience knows he won\\'t kiss Shirley Jones so you cannot build any anticipation for the \"screen consummation\" of their love. It\\'s sort of like watching a western in which the cowboys don\\'t have guns.<br /><br />The story is pointless. Even the title song is sung with pained enthusiasm.<br /><br />April Love belongs in the worst film bargain bin along with Ishtar and Plan 9 from Outer Space.'\n",
            " b\"This story was never among my favourites in Christie's works so I was pleasantly surprised to quite enjoy this adaptation. The mouse motif was effective if a little overdone, the bones of the story are there although more emphasis is placed on the 'crime in the past' subplot. The students were all pretty much as I imagined them although its a pity they weren't a more cosmopolitan bunch - perhaps the revised thirties setting didn't allow for that! I thought some very daring risks were taken with the filming; perhaps its because I've not long re-read the book but it seemed pretty obvious to me who the murderer was from their appearance in some reveal shots quite early on.<br /><br />Humour was much more prevalent in these early Poirots. Sometimes it works but I found a lot of it rather heavy handed in this episode (though I did smile at the 'Lemon sole' throwaway line). Altogether though, a solid entry in the series though not one of the best.\"\n",
            " b\"I wasn't sure how to rate this movie, since it was so bad it was actually very funny. I'm not a Gackt fan by any means, though he is talented, despite the weird pseudonym that sounds like a cat coughing up a hairball. I always thought Hyde was talented though, Faith is an interesting album.<br /><br />But on topic here folks. This movie is ridiculous. It's so over the top and nonsensical it's almost like a parody of supernatural action films.<br /><br />The movie has almost no plot here, except it's just about vampires with gangster friends. In a way, this film almost reminded me of Spider-Man 3, with how there were too many ideas, which resulted in not enough time to pay attention on one of them.<br /><br />The action scenes were laughable. Quickly edited, almost hard to understand, with choreography that's so laughably bad. Though Hyde looked very stylish during the action scenes, but that's this film's only such redemption. I'm a sucker for good action movies, but the action was horribly done. Though the final shootout was OK and the highlight of this otherwise depressing movie.<br /><br />It keeps jumping between genres, not a good thing. It wants to be a drama, or an action flick, or a horror, or a romance... what the hell.<br /><br />If this review is making you mad, why? Is it because Gackt and Hyde are your love? Don't fool yourself, this MOVIE IS BAD.\"\n",
            " b'Corean cinema can be quite surprising for an occidental audience, because of the multiplicity of the tones and genres you can find in the same movie. In a Coreen drama such as this \"Secret Sunshine\", you\\'ll also find some comical parts, thriller scenes and romantic times. \"There\\'s not only tragedy in life, there\\'s also tragic-comedy\" says at one point of the movie the character interpreted by Song Kang-ho, summing up the mixture of the picture. But don\\'t get me wrong, this heterogeneity of the genres the movie deals with, adds veracity to the experience this rich movie offers to its spectators. That doesn\\'t mean that it lacks unity : on the contrary, it\\'s rare to see such a dense and profound portrait of a woman in pain.<br /><br />Shin-ae, who\\'s in quest for a quiet life with her son in the native town of her late husband, really gives, by all the different faces of suffering she\\'s going through, unity to this movie. It\\'s realistic part is erased by the psychological descriptions of all the phases the poor mother is going through. Denial, lost, anger, faith, pert of reality : the movie fallows all the steps the character crosses, and looks like a psychological catalog of all the suffering phases a woman can experience.<br /><br />The only thing is to accept what may look like a conceptual experience (the woman wears the mask of tragedy, the man represents the comical interludes) and to let the artifices of the movie touch you. I must say that some parts of the movie really did move me (especialy in the beginning), particularly those concerning the unability of Chang Joan to truly help the one he loves, but also that the accumulation of suffering emotionally tired me towards the end. Nevertheless, some cinematographic ideas are really breathtaking and surprising (the scene where a body is discovered in a large shot is for instance amazing). This kind of scenes makes \"Secret Sunshine\" the melo equivalent of \"The Host\" for horror movies or \"Memories of murder\" for thrillers. These movies are indeed surprising, most original, aesthetically incredible, and manage to give another dimension to the genres they deal with. The only thing that \"Secret Sunshine\" forgets, as \"The host\" forgot to be scary, is to make its audience cry : bad point for a melodrama, but good point for a good film.'\n",
            " b\"WWF Survivor Series 2001<br /><br />This was among the worst events of 2001. Perhaps its biggest flaw was the fact that it didn't follow suit to most of the previous Survivor Series'. There was only ONE survivor series match. And that Survivor Series match went on for 45 minutes. What's more, anyone with a working brain would know that it would end with The Rock versus Austin and The Rock prevailing for his team. And don't get me started on the preview before the event. No matter who won it was obvious that no one was going to f***ing die. There was no need for all of that pointless hype. Whatever the storyline, it was just a wrestling event.<br /><br />And as for the rest of the matches: the first match was Christian defending his European title against Al Snow. It was a good fast paced match and its good to see a heel winning a match fairly. William Regal versus Tajiri was boring and we've seen it 2 or 3 times before. Edge versus Test was good but nothing great. The tag titles steel cage match was the best match of the evening. The battle Royal went on for 10 minutes and no one really cared who'd win in the first place. The Women's title match wasn't great. No, not in the slightest. The main event must have been the most hypocritical match in history. The Alliance lost but guess what, after 5 months every single Alliance superstar returned. The match itself was poor. The Rock eliminated 3 of them and Jericho eliminated 2. The Rock was too caught up with his acting to be there when the invasion began. Jericho was the one that jeopardised the whole match. If I wanted any 2 to be eliminated in the early going it would be them. Everyone knew that Kane, Big Show and Undertaker were just fall guys. 7 matches isn't enough for a Survivor Series. If there's ever a Survivor Series as bad as this again I'll\"\n",
            " b'If somebody wants to make a really, REALLY bad movie, \"Wizards of the Lost Kingdom\" really sets a yardstick by which to measure the depth of badness.<br /><br />Start with the pseudo-Chewbacca that follows around the main character ... Some poor schmuck in a baggy white \"furry\" costume that looks as if it was stitched together from discarded pieces of carpeting. Work your way slowly, painfully, through more not-so-special effects that thoroughly deny the viewer from suspension of disbelief. Add a garden gnome (just for the heck of it).<br /><br />On second thought, skip this movie entirely and find something else to do for an hour and a half.'\n",
            " b\"The threesome of Bill Boyd, Robert Armstrong, and James Gleason play Coney Island carnys vying for the hand of Ginger Rogers, a working gal who sells salt water taffy. With the outbreak of World War I, the threesome enlist and pursue Ginger from afar. The first half of this RKO Pathe production is hard going, with the three male leads chewing up the scenery with overcooked one-liners and 'snappy' dialogue that quickly grows tiresome. The second half concentrates on action sequences as the US Navy pursues both a German merchant cruiser and a U-boat. These sequences are lively and well-filmed, but overall this is an overlong and unsatisfying comedy-drama with a flat ending. For fans of the stars only.\"\n",
            " b'I have to admit that I\\'m a great fan of this show, so you must know how disappointed I got when I watched this movie. First of all, the plot was awful, I thought it was going to be something more interesting, like to see what happened to Arnold fathers, or something more interesting, but NOOOOOOO, a maniac wants to destroy Arnold\\'s house, between many other places, so many people tries to stop this.<br /><br />I must admit that the plot wasn\\'t so bad after all, but what really sucked were the steps that Arnold and his friends do to stop this maniac, they become friends of a spy,; they drive a bus (based on a video game, for God sake), and to worse everything, they make super-moves on the bus, things that many persons had already tried and died, but not Arnold, Gerald and Helga, \\'cause they are experts on a video game.<br /><br />Honestly, my mom, my sister, even me got really disappointed after watching this movie, \\'cause it was the worst way to finish a really good cartoon. I must admit that I used to enjoy \"Hey Arnold!\", it was one of my favorite cartoons on Nickelodeon, but after this crap of movie, I\\'m not quite sure if I\\'m going to watch \"Hey Arnold!\" as I used to watch it on the past.<br /><br />Other thing Nickelodeon, with that enormous number of dynamite I can assure you that not a simple street would explode, I think that the whole city could explode with that, oh, and please, if all of your future movies from good cartoons are going to be like that, don\\'t do more movies, you give a bad critic to cartoons that used to be good.<br /><br />Honestly, I think this was the worst way to end this show, a good show transformed into this crap of movie.'\n",
            " b\"Great movie when I saw it. Have to say one of my favorite movies of all time. I saw it like 8 times in the theater and got the DVD. As I got older and saw it again I realized that the movie is average. Compared to movies that are known ad good comedys, this is nothing. I mean Rock was hilarious in the movie and the whole switching with the racial stuff breaks a little barriers which is great. Also the thought of how the movie goes is a nice way of thinking. It's like most thought of a movie but also a little twist which is a very nice touch. I like the movie overall so i give it a...<br /><br />Still a good 7/10 for me.\"\n",
            " b\"Along with South Pacific, Guys and Dolls is for grown-ups - - it is sassy, sexy, and full of men being men and women being strung along.<br /><br />There is an energy and drive that makes this stand out from the pack - the strength of Jean Simmond's performance, and the charm of a young Brando, and an already masterful Sinatra add much to the overall feel and look of the piece.<br /><br />Guys and Dolls wins as it is unashamedly what it is: an MGM musical.<br /><br />Still good to look at and listen too with great tunes and dance numbers - it will remain one of the classics of 20th Century cinema and be watched with pleasure for years to come.<br /><br />Warmly recommended.\"\n",
            " b'\"Power Play\" starts off interesting but it goes down hill fast. The only good actor is Tobin Bell and he has a very small part. Beyond Bell, \"Power Play\" has no redeeming value or interest. \"Power Play\" has more earthquakes in a few days than California has in a year. The earthquake scene in the mall is so contrived and completely unbelievable. And all the action scenes look like a bunch of third graders putting on a play. It\\'s awful, simply awful.<br /><br />Bottom line, if \"Power Play\" was made in the 60\\'s or 70\\'s it would be considered a poor \"B\" class movie. The fact that \"Power Play\" was made in 2001 is really sad. Is there such a thing as a \"D\" class movie? If so, \"Power Play\" casts the mold.'\n",
            " b\"This film is underrated. I loved it. It was truly sweet and heartfelt. A family who struggles but isn't made into a dysfunctional family which is so typical of films today. The film didn't make it an issue that they have little money or are Dominican Republican the way Hollywood have.<br /><br />Instead the issue is Victor is immature and needs to grow up. He does, slowly, by the film's end. He has a ways to go, but it was a heartfelt attempt to move forward. His grandmother is very cute and the scene where the little boy throws up had me laughing for the longest time. A truly heartfelt indie\"\n",
            " b\"I sometimes grow weary of reading reviews of some of Hitchcock's lesser known films, because almost every single one starts out with someone saying this film is grossly overlooked or this is a hidden Hitchcock gem or a true Hitchcock great or some other generic if - only - people - would - watch - this - they - would - see - that - this - is - a - great - Hitchcock - film - just - as - much - as - Vertigo - North - by - Northwest - Psycho - Rear - Window - etc. So, that being said, I would just like to say that if - only - people - would - watch - this - they - would - see - that - this - is - a - great - Hitchcock - film - just - as - much - as - Vertigo - North - by - Northwest - Psycho - Rear - Window - etc.<br /><br />Now, that may be overshooting a little bit, The Ring is not by any stretch of the imagination even in the same league as any of those films mentioned twice above, but compared to the other films that Hitchcock made in the late 1920s and early 1930s, I really think that The Ring is one of the best photographed and performed films of mostly all of them. As an almost brand new director, there are some astonishing dream sequences and brilliant segments of editing which show why Hitchcock was generating so much attention early in his career.<br /><br />Granted, the film does start with, among other things, the highly disturbing spectacle of an idiot black circus performer (and I use idiot in the definitive manner, the way Stephen King so often does) having eggs and fruit thrown at him by a crowd of not the classiest looking white people. I suppose this only illustrates how incredibly different such circuses and people were back then, but I think it is one of the most off-putting sequences in any Hitchcock film I've seen.<br /><br />The main attraction at the circus is a fighter who claims to be able to knock any man down in one round, but when he meets his match, it is against a man that challenges his authority not only in the boxing ring but also in the ring around his wife's finger. So begins an entertaining if not very tense challenge for the love of one woman, who seems to sway from one man to the other effortlessly and thoughtlessly.<br /><br />(spoilers) There is, for example, a scene where her husband watches her from above as she is dropped off at home late at night and, just before going into the building, she is coaxed back to the car for a kiss. This kiss is never explained, and there is also the fact that, even at the end when she proves faithful to her husband, or at least ultimately chooses him, they look into each other's eyes but do not actually kiss.<br /><br />The film is certainly beautifully photographed, even more so than several films that Hitch released in subsequent years. There is also a performance by Gordon Harker as One Round Jack's trainer who, in his stone faced expressionism, reminds me quite often of the brilliant Buster Keaton. Hitch leaves it a bit ambiguous, but this is a great sample of his early work.\"\n",
            " b\"To bad for this fine film that it had to be released the same year as Braveheart. Though it is a very different kind of film, the conflict between Scottish commoners and English nobility is front and center here as well. Roughly 400 years had passed between the time Braveheart took place and Rob Roy was set, but some things never seemed to change. Scottland is still run by English nobles, and the highlanders never can seem to catch a break when dealing with them. Rob Roy is handsomely done, but not the grand epic that Braveheart was. There are no large-scale battles, and the conflict here is more between individuals. And helpfully so not all Englishmen are portrayed as evil this time. Rob Roy is simply a film about those with honor, and those who are truly evil.<br /><br />Liam Neeson plays the title character Rob Roy MacGregor. He is the leader of the MacGregor clan and his basic function is to tend to and protect the cattle of the local nobleman of record known as the Marquis of Montrose (John Hurt). Things look pretty rough for the MacGregor clan as winter is approaching, and there seems to be a lack of food for everyone. Rob Roy puts together a plan to borrow 1000 pounds from the Marquis and purchase some cattle of his own. He would then sell them off for a higher price and use the money to improve the general well-being of his community. Sounds fair enough, doesn't it? Problems arise when two cronies of the Marquis steal the money for themselves. One of them, known as Archibald Cunningham, is perhaps the most evil character ever put on film. Played wonderfully by Tim Roth, this man is a penniless would-be noble who has been sent to live with the Marquis by his mother. This man is disgustingly effeminate, rude, heartless, and very dangerous with a sword. He fathers a child with a hand maiden and refuses to own up to the responsibility. He rapes Macgregor's wife and burns him out of his home. This guy is truly as rotten as movie characters come. Along with another crony of the Marquis (Brian Cox) Cunningham steals the money and uses it to settle his own debts. Though it is painfully obvious to most people what happened, the Marquis still holds MacGregor to the debt. This sets up conflict that will take many lives and challenge the strengths of a man simply fighting to hold on to his dignity.<br /><br />Spoilers ahead!!!!!<br /><br />Luckily for the MacGregor's, a Duke who is no friend to the Marquis sets up a final duel between Rob Roy and Cunningham to resolve the conflict one and for all. This sword fight has been considered by many to be one of the best ever filmed. Cunningham is thought by many to be a sure winner with his speed and grace. And for most of the fight, it looks like these attributes will win out. Just when it looks like Rob Roy is finished, he turns the tables in a shockingly grotesque manner. The first time you see what happens, you will probably be as shocked as Cunningham! Rob Roy is beautifully filmed, wonderfully acted, and perfectly paced. The score is quite memorable, too. The casting choices seem to have worked out as Jessica Lange, who might seem to be out of her element, actually turns in one of the strongest performances as Mary MacGregor. The film is violent, but there isn't too much gore. It is a lusty picture full of deviant behavior, however. The nobility are largely played as being amoral and sleazy. The film has no obvious flaws, thus it gets 10 of 10 stars.<br /><br />The Hound.\"\n",
            " b\"The Priyadarshan/Paresh Rawal combo has been golden before with the likes of HERA PHERI and HUNGAMA so I went into the movie (at an Indian multiplex) with high hopes, especially after the slick promos. Unfortunately, like HULCHUL before it, this movie was a huge disappointment.<br /><br />Like others have commented, the premise of the movie, which was already stale to begin with, just gets stretched on and on without any development or additional layering. After a while, you just want the movie to end so you can go home (if I had been watching this at home, it would have been much easier to cut my losses). Akshay Kumar's performance is average at best and John Abraham should not try doing comedy again. The comedy aspects of the movie overall were pretty week. I only remember giggling like twice the entire movie. Definitely no sidesplitting belly laughs that consumed me in HERA PHERI or even to a lesser extent in AWARA PAAGAL DEEWANA. Paresh Rawal had a few of his expected classic moments, but overall, because his role and character wasn't given much room to grow, he didn't make much of an impact in this film.<br /><br />Neha Dhupia, who makes only an appearance in the movie, was fun to look at while she was on screen. And some of the songs are fun. Especially the opening and closing songs of ADA and KISS ME BABY, respectively. Otherwise, you're better off just passing on this movie.\"\n",
            " b'Simply put, this is the best movie to come out of Michigan since... well, ever! Evil Dead eat your heart out, Hatred of A Minute was some of the oddest, and best cinema to be seen by this reviewer in a long time. I recommend this movie to anyone who is in need of a head trip, or a good case of the willies!'\n",
            " b'This show is freaking hilarious! the jokes are original, god and i Love Eric and Kelso! yeah i know what they say, after the 8th season it\\'s not funny anymore because Eric and Kelso are no longer in the show, and Randy is a real dumbass. Randy is, comparing to Eric and Kelso. <br /><br />you cant take the funniest characters and switch em with \"I\\'m a cool guy\" kind of guy (Randy). it isn\\'t his fault anyway, but the writers are trying to keep the 8th season funny, it\\'s still is, not as much as the earlier seasons, but its alright.<br /><br />the 360\\'s are awesome, the circle, Red is a real kind of mental-abusing dad :) and kitty is always half-high half-pie. Hyde tries to be cool all the time, he has his moments too. the least favrioutes characters are Jackie and Donna. they\\'re cool, but not without Kelso and Eric.<br /><br />great show. Dumbass!'\n",
            " b'<br /><br />I\\'m not sure who decides what category a movie fits into, but this movie is NOT a horror movie. As for the story, it was fairly interesting, but rather slow. I was especially disappointed with the ending though.<br /><br />**spoiler**<br /><br />Tell me why on Earth does she run over to her uncle\\'s(?) home without at least calling the detective or the police first? She knows exactly what\\'s going on at that point, plus she has a video tape as proof. Instead, she runs over there and starts going nuts and saying \"I know everything, I have proof! You didn\\'t expect proof, did you?!\" Then she acts surprised when her uncle stands up and starts walking over to her as if he\\'s going to harm her. Well DUH! Of course he\\'s going to harm you idiot, you just told him you know everything and have proof to expose everything. What a dumb ending.'\n",
            " b\"A wonderful, free flowing, often lyrical film that whisks you along, ever smiling, even if there are truly shocking incidents along the way. One gasps at the way the women are treated and yet ultimately they seem to come through very well and it is much credit to all concerned that so many potentially disastrous scenes all work so very well. This is possibly Depardieu's best performance, certainly his most natural. Jeanne Moreau performs outstandingly in what must have been a very difficult role to play and including vigorous sex scenes with a couple of guys at least half her age. Miou-Miou is lovely throughout and again has very difficult scenes to play. Initially this seems a down and dirty misogynist rant/romp but as the tale and characters unfold a much more tender and honest picture emerges. In the end this uncompromising and daring film demands respect.\"\n",
            " b\"I saw this 25 years ago on PBS. It was very difficult to watch. So real. To watch this small family struggle in the winter was heart rending. No time for courting: fate has thrown us together and we put our shoulders to the grindstone and make it work. This was based on the woman's actual diary, which I read many years later. She said in her diary that her parents died when she was little and all their bothers and sisters had to work the farm to feed themselves. She learned to mow, which was not lady-like. She was afraid that no prince charming would want a woman with sun-browned, calloused hands, but this husband was so happy that his new wife knew how to mow, and she was happy to do it. Both were widowed and together they worked to build a new home. It was so, so sad when the baby died. Of course, if they had it today, I am sure it would have been fine. That only makes the tragedy extra sad. I was crying so hard. But then they went out and successfully pulled out a new calf. Spring is on its way, and life goes on. In her diary, she did have two more boys and they lived.\"]\n",
            "label:  [1 0 0 1 0 1 0 1 0 1 1 0 0 1 1 0 1 1 1 0 1 1 1 0 1 1 0 0 1 1 0 0 0 0 0 0 0\n",
            " 0 0 0 0 0 0 1 0 1 0 1 0 0 0 0 1 1 0 1 1 1 0 1 1 0 1 1]\n"
          ]
        }
      ],
      "source": [
        "# from the training set, take 1 example - default data type is a tensor (fancy numpy array) which is why numpy is used a lot \n",
        "for example, label in train_dataset.take(1):\n",
        "  print('text: ', example.numpy())\n",
        "  print('label: ', label.numpy())"
      ]
    },
    {
      "cell_type": "markdown",
      "metadata": {
        "id": "z2qVJzcEluH_"
      },
      "source": [
        "Next shuffle the data for training and create batches of these `(text, label)` pairs:"
      ]
    },
    {
      "cell_type": "code",
      "execution_count": 8,
      "metadata": {
        "id": "dDsCaZCDYZgm"
      },
      "outputs": [],
      "source": [
        "BUFFER_SIZE = 10000\n",
        "BATCH_SIZE = 64 "
      ]
    },
    {
      "cell_type": "markdown",
      "metadata": {
        "id": "LLHvBeM-roax"
      },
      "source": [
        "batch size - number of training examples utiltized in one interation, ex. take the first 64 and trains the model, then the next 64, and so on until the whole \n",
        "Buffer size - how much you take out from the total dataset\n",
        "epochs - how many times it updates the model \n",
        "Check out here  https://datascience.stackexchange.com/questions/89316/tensorflows-shufflebuffer-size\n",
        "\n",
        "We have 25,000 training examples but we don't want to train on the whole data set. A buffer size of 10,000 using for training. Take a sample of 64 or batch, over and over until we reach the buffer size. \n",
        "\n",
        "When we do this, something that can scale and work more efficiently. If we have half a billion tweets for example, to shuffle up and draw from it, it takes less time to do this from a smaller buffer size. Working with a small subset of the data (buffer) run on the batch and update the weights based on that after 64 examples. Update every batch size and not after each example because otherwise it can be more skewed. Example of 10 cards, 6 dogs and 4 cats, if first 6 are dogs, will assume dog is next but it's inaccurate. \n",
        "\n",
        "Model learns from a batch of data and minimizes overfitting. "
      ]
    },
    {
      "cell_type": "code",
      "execution_count": 9,
      "metadata": {
        "id": "VznrltNOnUc5"
      },
      "outputs": [],
      "source": [
        "train_dataset = train_dataset.shuffle(BUFFER_SIZE).batch(BATCH_SIZE).prefetch(tf.data.AUTOTUNE)\n",
        "test_dataset = test_dataset.batch(BATCH_SIZE).prefetch(tf.data.AUTOTUNE)"
      ]
    },
    {
      "cell_type": "markdown",
      "metadata": {
        "id": "fnFZLgiJthdt"
      },
      "source": [
        "prefetch - we don't need this, tells computer how much CPU to use, optimization thing "
      ]
    },
    {
      "cell_type": "code",
      "execution_count": 10,
      "metadata": {
        "colab": {
          "base_uri": "https://localhost:8080/"
        },
        "id": "jqkvdcFv41wC",
        "outputId": "ddb62f73-e4a7-4e5c-c0a3-a36e010d5e9c"
      },
      "outputs": [
        {
          "name": "stdout",
          "output_type": "stream",
          "text": [
            "texts:  [b\"And so the great rewriting of history continues Hollywood style.<br /><br />This was senseless ridiculous rubbish.<br /><br />Its shocks me that such an amazing amount of money can be spent to produce what is the most contrived, poorly acted inaccurate film I have ever seen. It is appalling.<br /><br />Nic Cage's brief flirtation with serious acting appears to be over. I can only assume that Leaving Las Vegas was a glitch in an otherwise litany of dreadful films.<br /><br />Diane Kruger proves that her performance in Troy was no fluke, she really can't act.<br /><br />Harvey Keitel should be ashamed of himself for working on such tripe.<br /><br />Only recommended for those either recovering from a recent lobotomy or people of an opinion that America invented the world.\"\n",
            " b\"This is an abysmal piece of story-telling. It is about an hour into the movie before we have much idea of what it is supposed to be about; the characters often mumble inaudibly; actions frequently seem to have no relation to each other; nobody seems to be concerned about who actually murdered the girl; a pair of spooky kids go swimming in waters that seem threatening but nothing happens; the Irishman gets punched in the face by one of his buddies for no apparent reason ... to continue would be as boring as the movie itself. The only half-entertaining element is the landscape photography; but anyone could point a camera at the Australian outback a get memorable shots. Overall - dreary, incoherent, pretentious - and downright annoying for wasting so much of the viewer's time.\"\n",
            " b\"This well conceived and carefully researched documentary outlines the appalling case of the Chagos Islanders, who, it shows, between 1969 and 1971, were forcibly deported en masse from their homeland through the collusion of the British and American governments. Anglo-American policy makers chose to so act due to their perception that the islands would be strategically vital bases for controlling the Indian Ocean through the projection of aerial and naval power. At a time during the Cold War when most newly independent post-colonial states were moving away from the Western orbit, it seems British and American officials rather felt that allowing the islanders to decide the fate of the islands was not a viable option. Instead they chose to effect the wholesale forcible removal of the native population. The film shows that no provision was made for the islanders at the point of their ejection, and that from the dockside in Mauritius where they were left, the displaced Chagossian community fell into three decades of privation, and in these new circumstances, beset by homesickness, they suffered substantially accelerated rates of death.<br /><br />Following the passage of more than three decades, however, in recent months (and years), following the release of many utterly damning papers from Britain's Public Record Office (one rather suspects that there was some mistake, and these papers were not supposed to have ever been made public), resultant legal appeals by the Chagossian community in exile have seen British courts consistently find in favour of the islanders and against the British State. As such, the astonishing and troubling conclusions drawn out in the film can only reasonably be seen as proved. Nevertheless, the governments of Great Britain and the United States have thus far made no commitment to return the islands to what the courts have definitively concluded are the rightful inhabitants. This is a very worthwhile film for anyone to see, but it is an important one for Britons and Americans to watch. To be silent in the face of these facts is to be complicit in a thoroughly ugly crime.\"]\n",
            "\n",
            "labels:  [0 0 1]\n"
          ]
        }
      ],
      "source": [
        "for example, label in train_dataset.take(1):\n",
        "  print('texts: ', example.numpy()[:3])\n",
        "  print()\n",
        "  print('labels: ', label.numpy()[:3])"
      ]
    },
    {
      "cell_type": "markdown",
      "metadata": {
        "id": "g20jjeILtyz7"
      },
      "source": [
        "Notice that the data isn't super clean...html in there."
      ]
    },
    {
      "cell_type": "markdown",
      "metadata": {
        "id": "s5eWCo88voPY"
      },
      "source": [
        "## Create the text encoder"
      ]
    },
    {
      "cell_type": "markdown",
      "metadata": {
        "id": "TFevcItw15P_"
      },
      "source": [
        "The raw text loaded by `tfds` needs to be processed before it can be used in a model. The simplest way to process text for training is using the `TextVectorization` layer. This layer has many capabilities, but this tutorial sticks to the default behavior.\n",
        "\n",
        "Create the layer, and pass the dataset's text to the layer's `.adapt` method:"
      ]
    },
    {
      "cell_type": "code",
      "execution_count": 11,
      "metadata": {
        "colab": {
          "base_uri": "https://localhost:8080/"
        },
        "id": "uC25Lu1Yvuqy",
        "outputId": "9b721cff-3887-4499-afd7-48a84ef9bb1f"
      },
      "outputs": [
        {
          "name": "stderr",
          "output_type": "stream",
          "text": [
            "WARNING:tensorflow:From /usr/local/lib/python3.9/dist-packages/tensorflow/python/autograph/pyct/static_analysis/liveness.py:83: Analyzer.lamba_check (from tensorflow.python.autograph.pyct.static_analysis.liveness) is deprecated and will be removed after 2023-09-23.\n",
            "Instructions for updating:\n",
            "Lambda fuctions will be no more assumed to be used in the statement where they are used, or at least in the same block. https://github.com/tensorflow/tensorflow/issues/56089\n"
          ]
        }
      ],
      "source": [
        "VOCAB_SIZE = 1000 # 1000 more frequent words \n",
        "encoder = tf.keras.layers.TextVectorization(\n",
        "    max_tokens=VOCAB_SIZE)\n",
        "encoder.adapt(train_dataset.map(lambda text, label: text))"
      ]
    },
    {
      "cell_type": "markdown",
      "metadata": {
        "id": "4LfWAM81uDkJ"
      },
      "source": [
        "Reduce document size - document vectorization, and converting it to numerical representation. Every document will be a sequence of numbers (of 1000 in this case) "
      ]
    },
    {
      "cell_type": "markdown",
      "metadata": {
        "id": "IuQzVBbe3Ldu"
      },
      "source": [
        "The `.adapt` method sets the layer's vocabulary. Here are the first 20 tokens. After the padding and unknown tokens they're sorted by frequency: "
      ]
    },
    {
      "cell_type": "code",
      "execution_count": 12,
      "metadata": {
        "colab": {
          "base_uri": "https://localhost:8080/"
        },
        "id": "tBoyjjWg0Ac9",
        "outputId": "689d3f67-e99e-4a0b-d32e-79d4418d8aa1"
      },
      "outputs": [
        {
          "data": {
            "text/plain": [
              "array(['', '[UNK]', 'the', 'and', 'a', 'of', 'to', 'is', 'in', 'it', 'i',\n",
              "       'this', 'that', 'br', 'was', 'as', 'for', 'with', 'movie', 'but'],\n",
              "      dtype='<U14')"
            ]
          },
          "execution_count": 12,
          "metadata": {},
          "output_type": "execute_result"
        }
      ],
      "source": [
        "vocab = np.array(encoder.get_vocabulary())\n",
        "vocab[:20]"
      ]
    },
    {
      "cell_type": "markdown",
      "metadata": {
        "id": "mjId5pua3jHQ"
      },
      "source": [
        "Once the vocabulary is set, the layer can encode text into indices. The tensors of indices are 0-padded to the longest sequence in the batch (unless you set a fixed `output_sequence_length`):"
      ]
    },
    {
      "cell_type": "code",
      "execution_count": 13,
      "metadata": {
        "colab": {
          "base_uri": "https://localhost:8080/"
        },
        "id": "RGc7C9WiwRWs",
        "outputId": "e0143960-b930-472d-dd86-4eb9304b2fbc"
      },
      "outputs": [
        {
          "data": {
            "text/plain": [
              "array([[ 3, 38,  2, ...,  0,  0,  0],\n",
              "       [11,  7, 34, ...,  0,  0,  0],\n",
              "       [11, 74,  1, ...,  0,  0,  0]])"
            ]
          },
          "execution_count": 13,
          "metadata": {},
          "output_type": "execute_result"
        }
      ],
      "source": [
        "encoded_example = encoder(example)[:3].numpy()\n",
        "encoded_example"
      ]
    },
    {
      "cell_type": "markdown",
      "metadata": {
        "id": "A4M0SgGiuv1s"
      },
      "source": [
        "Each number represents a word in the vocabulary. Numerical representation of the document from the vocabulary "
      ]
    },
    {
      "cell_type": "markdown",
      "metadata": {
        "id": "F5cjz0bS39IN"
      },
      "source": [
        "With the default settings, the process is not completely reversible. There are three main reasons for that:\n",
        "\n",
        "1. The default value for `preprocessing.TextVectorization`'s `standardize` argument is `\"lower_and_strip_punctuation\"`.\n",
        "2. The limited vocabulary size and lack of character-based fallback results in some unknown tokens."
      ]
    },
    {
      "cell_type": "code",
      "execution_count": 14,
      "metadata": {
        "colab": {
          "base_uri": "https://localhost:8080/"
        },
        "id": "N_tD0QY5wXaK",
        "outputId": "2a70b17a-c9b7-4c22-d2c1-04ff29dd6bd3"
      },
      "outputs": [
        {
          "name": "stdout",
          "output_type": "stream",
          "text": [
            "Original:  b\"And so the great rewriting of history continues Hollywood style.<br /><br />This was senseless ridiculous rubbish.<br /><br />Its shocks me that such an amazing amount of money can be spent to produce what is the most contrived, poorly acted inaccurate film I have ever seen. It is appalling.<br /><br />Nic Cage's brief flirtation with serious acting appears to be over. I can only assume that Leaving Las Vegas was a glitch in an otherwise litany of dreadful films.<br /><br />Diane Kruger proves that her performance in Troy was no fluke, she really can't act.<br /><br />Harvey Keitel should be ashamed of himself for working on such tripe.<br /><br />Only recommended for those either recovering from a recent lobotomy or people of an opinion that America invented the world.\"\n",
            "Round-trip:  and so the great [UNK] of history [UNK] hollywood [UNK] br this was [UNK] ridiculous [UNK] br its [UNK] me that such an amazing [UNK] of money can be [UNK] to [UNK] what is the most [UNK] poorly [UNK] [UNK] film i have ever seen it is [UNK] br [UNK] [UNK] [UNK] [UNK] with serious acting appears to be over i can only [UNK] that [UNK] [UNK] [UNK] was a [UNK] in an otherwise [UNK] of [UNK] [UNK] br [UNK] [UNK] [UNK] that her performance in [UNK] was no [UNK] she really cant [UNK] br [UNK] [UNK] should be [UNK] of himself for working on such [UNK] br only [UNK] for those either [UNK] from a [UNK] [UNK] or people of an opinion that america [UNK] the world                                                                                                                                                                                                                                                                                                                                                                                                                                                                                                                                             \n",
            "\n",
            "Original:  b\"This is an abysmal piece of story-telling. It is about an hour into the movie before we have much idea of what it is supposed to be about; the characters often mumble inaudibly; actions frequently seem to have no relation to each other; nobody seems to be concerned about who actually murdered the girl; a pair of spooky kids go swimming in waters that seem threatening but nothing happens; the Irishman gets punched in the face by one of his buddies for no apparent reason ... to continue would be as boring as the movie itself. The only half-entertaining element is the landscape photography; but anyone could point a camera at the Australian outback a get memorable shots. Overall - dreary, incoherent, pretentious - and downright annoying for wasting so much of the viewer's time.\"\n",
            "Round-trip:  this is an [UNK] piece of [UNK] it is about an hour into the movie before we have much idea of what it is supposed to be about the characters often [UNK] [UNK] [UNK] [UNK] seem to have no [UNK] to each other [UNK] seems to be [UNK] about who actually [UNK] the girl a [UNK] of [UNK] kids go [UNK] in [UNK] that seem [UNK] but nothing happens the [UNK] gets [UNK] in the face by one of his [UNK] for no [UNK] reason to [UNK] would be as boring as the movie itself the only [UNK] [UNK] is the [UNK] [UNK] but anyone could point a camera at the [UNK] [UNK] a get memorable shots overall [UNK] [UNK] [UNK] and [UNK] annoying for [UNK] so much of the viewers time                                                                                                                                                                                                                                                                                                                                                                                                                                                                                                                                         \n",
            "\n",
            "Original:  b\"This well conceived and carefully researched documentary outlines the appalling case of the Chagos Islanders, who, it shows, between 1969 and 1971, were forcibly deported en masse from their homeland through the collusion of the British and American governments. Anglo-American policy makers chose to so act due to their perception that the islands would be strategically vital bases for controlling the Indian Ocean through the projection of aerial and naval power. At a time during the Cold War when most newly independent post-colonial states were moving away from the Western orbit, it seems British and American officials rather felt that allowing the islanders to decide the fate of the islands was not a viable option. Instead they chose to effect the wholesale forcible removal of the native population. The film shows that no provision was made for the islanders at the point of their ejection, and that from the dockside in Mauritius where they were left, the displaced Chagossian community fell into three decades of privation, and in these new circumstances, beset by homesickness, they suffered substantially accelerated rates of death.<br /><br />Following the passage of more than three decades, however, in recent months (and years), following the release of many utterly damning papers from Britain's Public Record Office (one rather suspects that there was some mistake, and these papers were not supposed to have ever been made public), resultant legal appeals by the Chagossian community in exile have seen British courts consistently find in favour of the islanders and against the British State. As such, the astonishing and troubling conclusions drawn out in the film can only reasonably be seen as proved. Nevertheless, the governments of Great Britain and the United States have thus far made no commitment to return the islands to what the courts have definitively concluded are the rightful inhabitants. This is a very worthwhile film for anyone to see, but it is an important one for Britons and Americans to watch. To be silent in the face of these facts is to be complicit in a thoroughly ugly crime.\"\n",
            "Round-trip:  this well [UNK] and [UNK] [UNK] documentary [UNK] the [UNK] case of the [UNK] [UNK] who it shows between [UNK] and [UNK] were [UNK] [UNK] [UNK] [UNK] from their [UNK] through the [UNK] of the british and american [UNK] [UNK] [UNK] [UNK] [UNK] to so act due to their [UNK] that the [UNK] would be [UNK] [UNK] [UNK] for [UNK] the [UNK] [UNK] through the [UNK] of [UNK] and [UNK] power at a time during the [UNK] war when most [UNK] [UNK] [UNK] [UNK] were moving away from the [UNK] [UNK] it seems british and american [UNK] rather felt that [UNK] the [UNK] to [UNK] the [UNK] of the [UNK] was not a [UNK] [UNK] instead they [UNK] to effect the [UNK] [UNK] [UNK] of the [UNK] [UNK] the film shows that no [UNK] was made for the [UNK] at the point of their [UNK] and that from the [UNK] in [UNK] where they were left the [UNK] [UNK] [UNK] [UNK] into three [UNK] of [UNK] and in these new [UNK] [UNK] by [UNK] they [UNK] [UNK] [UNK] [UNK] of [UNK] br [UNK] the [UNK] of more than three [UNK] however in [UNK] [UNK] and years [UNK] the release of many [UNK] [UNK] [UNK] from [UNK] [UNK] [UNK] [UNK] one rather [UNK] that there was some [UNK] and these [UNK] were not supposed to have ever been made [UNK] [UNK] [UNK] [UNK] by the [UNK] [UNK] in [UNK] have seen british [UNK] [UNK] find in [UNK] of the [UNK] and against the british [UNK] as such the [UNK] and [UNK] [UNK] [UNK] out in the film can only [UNK] be seen as [UNK] [UNK] the [UNK] of great [UNK] and the [UNK] [UNK] have [UNK] far made no [UNK] to return the [UNK] to what the [UNK] have [UNK] [UNK] are the [UNK] [UNK] this is a very [UNK] film for anyone to see but it is an important one for [UNK] and [UNK] to watch to be [UNK] in the face of these [UNK] is to be [UNK] in a [UNK] [UNK] crime                                                                                                                                                                                                                                                                                                                     \n",
            "\n"
          ]
        }
      ],
      "source": [
        "for n in range(3):\n",
        "  print(\"Original: \", example[n].numpy())\n",
        "  print(\"Round-trip: \", \" \".join(vocab[encoded_example[n]]))\n",
        "  print()"
      ]
    },
    {
      "cell_type": "markdown",
      "metadata": {
        "id": "bjUqGVBxGw-t"
      },
      "source": [
        "## Create the model"
      ]
    },
    {
      "cell_type": "markdown",
      "metadata": {
        "id": "W7zsmInBOCPO"
      },
      "source": [
        "![A drawing of the information flow in the model](https://github.com/tensorflow/text/blob/master/docs/tutorials/images/bidirectional.png?raw=1)"
      ]
    },
    {
      "cell_type": "markdown",
      "metadata": {
        "id": "bgs6nnSTGw-t"
      },
      "source": [
        "Above is a diagram of the model. \n",
        "\n",
        "1. This model can be build as a `tf.keras.Sequential`.\n",
        "\n",
        "2. The first layer is the `encoder`, which converts the text to a sequence of token indices.\n",
        "\n",
        "3. After the encoder is an embedding layer. An embedding layer stores one vector per word. When called, it converts the sequences of word indices to sequences of vectors. These vectors are trainable. After training (on enough data), words with similar meanings often have similar vectors.\n",
        "\n",
        "  This index-lookup is much more efficient than the equivalent operation of passing a one-hot encoded vector through a `tf.keras.layers.Dense` layer.\n",
        "\n",
        "4. A recurrent neural network (RNN) processes sequence input by iterating through the elements. RNNs pass the outputs from one timestep to their input on the next timestep.\n",
        "\n",
        "  The `tf.keras.layers.Bidirectional` wrapper can also be used with an RNN layer. This propagates the input forward and backwards through the RNN layer and then concatenates the final output. \n",
        "\n",
        "  * The main advantage of a bidirectional RNN is that the signal from the beginning of the input doesn't need to be processed all the way through every timestep to affect the output.  \n",
        "\n",
        "  * The main disadvantage of a bidirectional RNN is that you can't efficiently stream predictions as words are being added to the end.\n",
        "\n",
        "5. After the RNN has converted the sequence to a single vector the two `layers.Dense` do some final processing, and convert from this vector representation to a single logit as the classification output. \n"
      ]
    },
    {
      "cell_type": "markdown",
      "metadata": {
        "id": "1ot9v0cAvFPt"
      },
      "source": [
        "Every word, prior to go into the model is embedded. Can use pretrained embeddings, like word2vec. What goes into the model isn't the token itself but it's a numerical representation or word embedding. "
      ]
    },
    {
      "cell_type": "markdown",
      "metadata": {
        "id": "V4fodCI7soQi"
      },
      "source": [
        "The code to implement this is below:"
      ]
    },
    {
      "cell_type": "code",
      "execution_count": 15,
      "metadata": {
        "id": "LwfoBkmRYcP3"
      },
      "outputs": [],
      "source": [
        "model = tf.keras.Sequential([\n",
        "    encoder,\n",
        "    tf.keras.layers.Embedding( # embedding layer\n",
        "        input_dim=len(encoder.get_vocabulary()),\n",
        "        output_dim=64,\n",
        "        # Use masking to handle the variable sequence lengths\n",
        "        mask_zero=True),\n",
        "    tf.keras.layers.Bidirectional(tf.keras.layers.LSTM(64)), # bidirectional layer \n",
        "    tf.keras.layers.Dense(64, activation='relu'),\n",
        "    tf.keras.layers.Dense(1) # gives a score between 0-1\n",
        "])"
      ]
    },
    {
      "cell_type": "markdown",
      "metadata": {
        "id": "QIGmIGkkouUb"
      },
      "source": [
        "Please note that Keras sequential model is used here since all the layers in the model only have single input and produce single output. In case you want to use stateful RNN layer, you might want to build your model with Keras functional API or model subclassing so that you can retrieve and reuse the RNN layer states. Please check [Keras RNN guide](https://www.tensorflow.org/guide/keras/rnn#rnn_state_reuse) for more details."
      ]
    },
    {
      "cell_type": "markdown",
      "metadata": {
        "id": "kF-PsCk1LwjY"
      },
      "source": [
        "The embedding layer [uses masking](https://www.tensorflow.org/guide/keras/masking_and_padding) to handle the varying sequence-lengths. All the layers after the `Embedding` support masking:"
      ]
    },
    {
      "cell_type": "code",
      "execution_count": 16,
      "metadata": {
        "colab": {
          "base_uri": "https://localhost:8080/"
        },
        "id": "87a8-CwfKebw",
        "outputId": "76075ea8-cd09-4135-f0c2-868bfcad7bc6"
      },
      "outputs": [
        {
          "name": "stdout",
          "output_type": "stream",
          "text": [
            "[False, True, True, True, True]\n"
          ]
        }
      ],
      "source": [
        "print([layer.supports_masking for layer in model.layers])"
      ]
    },
    {
      "cell_type": "markdown",
      "metadata": {
        "id": "ZlS0iaUIWLpI"
      },
      "source": [
        "To confirm that this works as expected, evaluate a sentence twice. First, alone so there's no padding to mask:"
      ]
    },
    {
      "cell_type": "code",
      "execution_count": 17,
      "metadata": {
        "colab": {
          "base_uri": "https://localhost:8080/"
        },
        "id": "O41gw3KfWHus",
        "outputId": "81f1bb6a-459b-4f06-e6cd-fbf7ed232051"
      },
      "outputs": [
        {
          "name": "stdout",
          "output_type": "stream",
          "text": [
            "1/1 [==============================] - 6s 6s/step\n",
            "[-0.00107242]\n"
          ]
        }
      ],
      "source": [
        "# predict on a sample text without padding.\n",
        "\n",
        "sample_text = ('The movie was cool. The animation and the graphics '\n",
        "               'were out of this world. I would recommend this movie.')\n",
        "predictions = model.predict(np.array([sample_text]))\n",
        "print(predictions[0])"
      ]
    },
    {
      "cell_type": "markdown",
      "metadata": {
        "id": "K0VQmGnEWcuz"
      },
      "source": [
        "Now, evaluate it again in a batch with a longer sentence. The result should be identical:"
      ]
    },
    {
      "cell_type": "code",
      "execution_count": 18,
      "metadata": {
        "colab": {
          "base_uri": "https://localhost:8080/"
        },
        "id": "UIgpuTeFNDzq",
        "outputId": "8eb0d32b-9cff-4339-8b7a-cecf6d88f20a"
      },
      "outputs": [
        {
          "name": "stdout",
          "output_type": "stream",
          "text": [
            "1/1 [==============================] - 0s 66ms/step\n",
            "[-0.00107242]\n"
          ]
        }
      ],
      "source": [
        "# predict on a sample text with padding\n",
        "\n",
        "padding = \"the \" * 2000\n",
        "predictions = model.predict(np.array([sample_text, padding]))\n",
        "print(predictions[0])"
      ]
    },
    {
      "cell_type": "markdown",
      "metadata": {
        "id": "sRI776ZcH3Tf"
      },
      "source": [
        "Compile the Keras model to configure the training process:"
      ]
    },
    {
      "cell_type": "code",
      "execution_count": 19,
      "metadata": {
        "id": "kj2xei41YZjC"
      },
      "outputs": [],
      "source": [
        "model.compile(loss=tf.keras.losses.BinaryCrossentropy(from_logits=True),\n",
        "              optimizer=tf.keras.optimizers.Adam(1e-4),\n",
        "              metrics=['accuracy'])"
      ]
    },
    {
      "cell_type": "markdown",
      "metadata": {
        "id": "zIwH3nto596k"
      },
      "source": [
        "## Train the model"
      ]
    },
    {
      "cell_type": "code",
      "execution_count": 20,
      "metadata": {
        "colab": {
          "base_uri": "https://localhost:8080/"
        },
        "id": "hw86wWS4YgR2",
        "outputId": "66ef44ce-794f-4e22-a5f1-acaa34d7d4cf"
      },
      "outputs": [
        {
          "name": "stdout",
          "output_type": "stream",
          "text": [
            "Epoch 1/10\n",
            "391/391 [==============================] - 49s 100ms/step - loss: 0.6630 - accuracy: 0.5514 - val_loss: 0.5732 - val_accuracy: 0.6677\n",
            "Epoch 2/10\n",
            "391/391 [==============================] - 26s 67ms/step - loss: 0.4596 - accuracy: 0.7699 - val_loss: 0.3978 - val_accuracy: 0.8052\n",
            "Epoch 3/10\n",
            "391/391 [==============================] - 25s 63ms/step - loss: 0.3588 - accuracy: 0.8378 - val_loss: 0.3552 - val_accuracy: 0.8365\n",
            "Epoch 4/10\n",
            "391/391 [==============================] - 25s 63ms/step - loss: 0.3310 - accuracy: 0.8534 - val_loss: 0.3408 - val_accuracy: 0.8365\n",
            "Epoch 5/10\n",
            "391/391 [==============================] - 31s 78ms/step - loss: 0.3154 - accuracy: 0.8628 - val_loss: 0.3285 - val_accuracy: 0.8490\n",
            "Epoch 6/10\n",
            "391/391 [==============================] - 28s 71ms/step - loss: 0.3089 - accuracy: 0.8668 - val_loss: 0.3254 - val_accuracy: 0.8568\n",
            "Epoch 7/10\n",
            "391/391 [==============================] - 27s 68ms/step - loss: 0.3065 - accuracy: 0.8676 - val_loss: 0.3289 - val_accuracy: 0.8578\n",
            "Epoch 8/10\n",
            "391/391 [==============================] - 24s 61ms/step - loss: 0.3031 - accuracy: 0.8704 - val_loss: 0.3222 - val_accuracy: 0.8500\n",
            "Epoch 9/10\n",
            "391/391 [==============================] - 28s 70ms/step - loss: 0.3003 - accuracy: 0.8711 - val_loss: 0.3347 - val_accuracy: 0.8354\n",
            "Epoch 10/10\n",
            "391/391 [==============================] - 27s 69ms/step - loss: 0.2986 - accuracy: 0.8721 - val_loss: 0.3245 - val_accuracy: 0.8531\n"
          ]
        }
      ],
      "source": [
        "history = model.fit(train_dataset, epochs=10,\n",
        "                    validation_data=test_dataset,\n",
        "                    validation_steps=30)"
      ]
    },
    {
      "cell_type": "code",
      "execution_count": 21,
      "metadata": {
        "colab": {
          "base_uri": "https://localhost:8080/"
        },
        "id": "BaNbXi43YgUT",
        "outputId": "9493d2ab-439a-4635-bcd0-b68b4fcd1ece"
      },
      "outputs": [
        {
          "name": "stdout",
          "output_type": "stream",
          "text": [
            "391/391 [==============================] - 12s 31ms/step - loss: 0.3166 - accuracy: 0.8538\n",
            "Test Loss: 0.3165911138057709\n",
            "Test Accuracy: 0.8537999987602234\n"
          ]
        }
      ],
      "source": [
        "test_loss, test_acc = model.evaluate(test_dataset)\n",
        "\n",
        "print('Test Loss:', test_loss)\n",
        "print('Test Accuracy:', test_acc)"
      ]
    },
    {
      "cell_type": "code",
      "execution_count": 22,
      "metadata": {
        "colab": {
          "base_uri": "https://localhost:8080/",
          "height": 519
        },
        "id": "OZmwt_mzaQJk",
        "outputId": "82738fac-9a86-4b18-83a1-b9823bae582b"
      },
      "outputs": [
        {
          "data": {
            "text/plain": [
              "(0.0, 0.6812604099512101)"
            ]
          },
          "execution_count": 22,
          "metadata": {},
          "output_type": "execute_result"
        },
        {
          "data": {
            "image/png": "[encoded data removed]",
            "text/plain": [
              "<Figure size 1152x576 with 2 Axes>"
            ]
          },
          "metadata": {
            "needs_background": "light"
          },
          "output_type": "display_data"
        }
      ],
      "source": [
        "plt.figure(figsize=(16, 8))\n",
        "plt.subplot(1, 2, 1)\n",
        "plot_graphs(history, 'accuracy')\n",
        "plt.ylim(None, 1)\n",
        "plt.subplot(1, 2, 2)\n",
        "plot_graphs(history, 'loss')\n",
        "plt.ylim(0, None)"
      ]
    },
    {
      "cell_type": "markdown",
      "metadata": {
        "id": "X1i8149_wE5n"
      },
      "source": [
        "Can it stopped learning around 4 epochs in both metrics. "
      ]
    },
    {
      "cell_type": "markdown",
      "metadata": {
        "id": "DwSE_386uhxD"
      },
      "source": [
        "Run a prediction on a new sentence:\n",
        "\n",
        "If the prediction is >= 0.0, it is positive else it is negative."
      ]
    },
    {
      "cell_type": "code",
      "execution_count": 23,
      "metadata": {
        "colab": {
          "base_uri": "https://localhost:8080/"
        },
        "id": "ZXgfQSgRW6zU",
        "outputId": "b8a81421-3cf5-4fad-8369-3dfaffd1105b"
      },
      "outputs": [
        {
          "name": "stdout",
          "output_type": "stream",
          "text": [
            "1/1 [==============================] - 3s 3s/step\n"
          ]
        }
      ],
      "source": [
        "sample_text = ('The movie was cool. The animation and the graphics '\n",
        "               'were out of this world. I would recommend this movie.')\n",
        "predictions = model.predict(np.array([sample_text]))"
      ]
    },
    {
      "cell_type": "code",
      "execution_count": 33,
      "metadata": {
        "colab": {
          "base_uri": "https://localhost:8080/"
        },
        "id": "WWdgRW7awNl6",
        "outputId": "74b3327e-50b0-45a2-cb6f-5beaccbfa2f4"
      },
      "outputs": [
        {
          "data": {
            "text/plain": [
              "array([[-1.7561256]], dtype=float32)"
            ]
          },
          "execution_count": 33,
          "metadata": {},
          "output_type": "execute_result"
        }
      ],
      "source": [
        "predictions"
      ]
    },
    {
      "cell_type": "markdown",
      "metadata": {
        "id": "7g1evcaRpTKm"
      },
      "source": [
        "## Stack two or more LSTM layers\n",
        "\n",
        "Keras recurrent layers have two available modes that are controlled by the `return_sequences` constructor argument:\n",
        "\n",
        "* If `False` it returns only the last output for each input sequence (a 2D tensor of shape (batch_size, output_features)). This is the default, used in the previous model.\n",
        "\n",
        "* If `True` the full sequences of successive outputs for each timestep is returned (a 3D tensor of shape `(batch_size, timesteps, output_features)`).\n",
        "\n",
        "Here is what the flow of information looks like with `return_sequences=True`:\n",
        "\n",
        "![layered_bidirectional](https://github.com/tensorflow/text/blob/master/docs/tutorials/images/layered_bidirectional.png?raw=1)"
      ]
    },
    {
      "cell_type": "markdown",
      "metadata": {
        "id": "wbSClCrG1z8l"
      },
      "source": [
        "The interesting thing about using an `RNN` with `return_sequences=True` is that the output still has 3-axes, like the input, so it can be passed to another RNN layer, like this:"
      ]
    },
    {
      "cell_type": "code",
      "execution_count": 24,
      "metadata": {
        "id": "jo1jjO3vn0jo"
      },
      "outputs": [],
      "source": [
        "model = tf.keras.Sequential([\n",
        "    encoder,\n",
        "    tf.keras.layers.Embedding(len(encoder.get_vocabulary()), 64, mask_zero=True),\n",
        "    tf.keras.layers.Bidirectional(tf.keras.layers.LSTM(64,  return_sequences=True)),\n",
        "    tf.keras.layers.Bidirectional(tf.keras.layers.LSTM(32)),\n",
        "    tf.keras.layers.Dense(64, activation='relu'),\n",
        "    tf.keras.layers.Dropout(0.5),\n",
        "    tf.keras.layers.Dense(1)\n",
        "])"
      ]
    },
    {
      "cell_type": "code",
      "execution_count": 25,
      "metadata": {
        "id": "hEPV5jVGp-is"
      },
      "outputs": [],
      "source": [
        "model.compile(loss=tf.keras.losses.BinaryCrossentropy(from_logits=True),\n",
        "              optimizer=tf.keras.optimizers.Adam(1e-4),\n",
        "              metrics=['accuracy'])"
      ]
    },
    {
      "cell_type": "code",
      "execution_count": 26,
      "metadata": {
        "colab": {
          "base_uri": "https://localhost:8080/"
        },
        "id": "LeSE-YjdqAeN",
        "outputId": "bc4d6e18-ecb9-4075-934c-1d36a320efac"
      },
      "outputs": [
        {
          "name": "stdout",
          "output_type": "stream",
          "text": [
            "Epoch 1/10\n",
            "391/391 [==============================] - 78s 156ms/step - loss: 0.6297 - accuracy: 0.5921 - val_loss: 0.4524 - val_accuracy: 0.7974\n",
            "Epoch 2/10\n",
            "391/391 [==============================] - 50s 129ms/step - loss: 0.3943 - accuracy: 0.8273 - val_loss: 0.3520 - val_accuracy: 0.8500\n",
            "Epoch 3/10\n",
            "391/391 [==============================] - 45s 114ms/step - loss: 0.3389 - accuracy: 0.8553 - val_loss: 0.3321 - val_accuracy: 0.8568\n",
            "Epoch 4/10\n",
            "391/391 [==============================] - 43s 110ms/step - loss: 0.3223 - accuracy: 0.8620 - val_loss: 0.3360 - val_accuracy: 0.8667\n",
            "Epoch 5/10\n",
            "391/391 [==============================] - 45s 114ms/step - loss: 0.3164 - accuracy: 0.8654 - val_loss: 0.3259 - val_accuracy: 0.8615\n",
            "Epoch 6/10\n",
            "391/391 [==============================] - 50s 127ms/step - loss: 0.3072 - accuracy: 0.8700 - val_loss: 0.3165 - val_accuracy: 0.8547\n",
            "Epoch 7/10\n",
            "391/391 [==============================] - 45s 114ms/step - loss: 0.3074 - accuracy: 0.8686 - val_loss: 0.3178 - val_accuracy: 0.8609\n",
            "Epoch 8/10\n",
            "391/391 [==============================] - 45s 114ms/step - loss: 0.3028 - accuracy: 0.8688 - val_loss: 0.3175 - val_accuracy: 0.8625\n",
            "Epoch 9/10\n",
            "391/391 [==============================] - 45s 114ms/step - loss: 0.3017 - accuracy: 0.8698 - val_loss: 0.3225 - val_accuracy: 0.8625\n",
            "Epoch 10/10\n",
            "391/391 [==============================] - 55s 140ms/step - loss: 0.2968 - accuracy: 0.8728 - val_loss: 0.3190 - val_accuracy: 0.8490\n"
          ]
        }
      ],
      "source": [
        "history = model.fit(train_dataset, epochs=10,\n",
        "                    validation_data=test_dataset,\n",
        "                    validation_steps=30)"
      ]
    },
    {
      "cell_type": "code",
      "execution_count": 27,
      "metadata": {
        "colab": {
          "base_uri": "https://localhost:8080/"
        },
        "id": "_LdwilM1qPM3",
        "outputId": "1a89544d-9ebd-4996-effe-c60f86ec6962"
      },
      "outputs": [
        {
          "name": "stdout",
          "output_type": "stream",
          "text": [
            "391/391 [==============================] - 19s 48ms/step - loss: 0.3214 - accuracy: 0.8469\n",
            "Test Loss: 0.3214079737663269\n",
            "Test Accuracy: 0.8468800187110901\n"
          ]
        }
      ],
      "source": [
        "test_loss, test_acc = model.evaluate(test_dataset)\n",
        "\n",
        "print('Test Loss:', test_loss)\n",
        "print('Test Accuracy:', test_acc)"
      ]
    },
    {
      "cell_type": "code",
      "execution_count": 28,
      "metadata": {
        "colab": {
          "base_uri": "https://localhost:8080/"
        },
        "id": "ykUKnAoqbycW",
        "outputId": "ff1e4e6a-b5a2-45fd-d719-8157a67c69df"
      },
      "outputs": [
        {
          "name": "stdout",
          "output_type": "stream",
          "text": [
            "1/1 [==============================] - 5s 5s/step\n",
            "[[-1.7561256]]\n"
          ]
        }
      ],
      "source": [
        "# predict on a sample text without padding.\n",
        "\n",
        "sample_text = ('The movie was not good. The animation and the graphics '\n",
        "               'were terrible. I would not recommend this movie.')\n",
        "predictions = model.predict(np.array([sample_text]))\n",
        "print(predictions)"
      ]
    },
    {
      "cell_type": "code",
      "execution_count": 29,
      "metadata": {
        "colab": {
          "base_uri": "https://localhost:8080/",
          "height": 388
        },
        "id": "_YYub0EDtwCu",
        "outputId": "447eedfd-8f85-4a03-97d3-fc9ca07844d9"
      },
      "outputs": [
        {
          "data": {
            "image/png": "[encoded data removed]",
            "text/plain": [
              "<Figure size 1152x432 with 2 Axes>"
            ]
          },
          "metadata": {
            "needs_background": "light"
          },
          "output_type": "display_data"
        }
      ],
      "source": [
        "plt.figure(figsize=(16, 6))\n",
        "plt.subplot(1, 2, 1)\n",
        "plot_graphs(history, 'accuracy')\n",
        "plt.subplot(1, 2, 2)\n",
        "plot_graphs(history, 'loss')"
      ]
    },
    {
      "cell_type": "markdown",
      "metadata": {
        "id": "9xvpE3BaGw_V"
      },
      "source": [
        "Check out other existing recurrent layers such as [GRU layers](https://www.tensorflow.org/api_docs/python/tf/keras/layers/GRU).\n",
        "\n",
        "If you're interested in building custom RNNs, see the [Keras RNN Guide](https://www.tensorflow.org/guide/keras/rnn).\n"
      ]
    }
  ],
  "metadata": {
    "accelerator": "GPU",
    "colab": {
      "name": "text_classification_rnn.ipynb",
      "provenance": [],
      "toc_visible": true
    },
    "kernelspec": {
      "display_name": "Python 3",
      "language": "python",
      "name": "python3"
    },
    "language_info": {
      "name": "python",
      "version": "3.9.2 (default, Feb 28 2021, 17:03:44) \n[GCC 10.2.1 20210110]"
    },
    "vscode": {
      "interpreter": {
        "hash": "767d51c1340bd893661ea55ea3124f6de3c7a262a8b4abca0554b478b1e2ff90"
      }
    }
  },
  "nbformat": 4,
  "nbformat_minor": 0
}
